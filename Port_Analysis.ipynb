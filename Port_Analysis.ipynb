{
 "cells": [
  {
   "cell_type": "markdown",
   "metadata": {},
   "source": [
    "# Portfolio Analysis\n",
    "\n",
    "## I. Data Exploration"
   ]
  },
  {
   "cell_type": "code",
   "execution_count": 1,
   "metadata": {},
   "outputs": [
    {
     "name": "stdout",
     "output_type": "stream",
     "text": [
      "Collecting quantstats\n",
      "  Downloading QuantStats-0.0.48-py2.py3-none-any.whl (40 kB)\n",
      "     |████████████████████████████████| 40 kB 9.7 MB/s             \n",
      "\u001b[?25hCollecting scipy>=1.2.0\n",
      "  Downloading scipy-1.7.3-cp38-cp38-manylinux_2_17_x86_64.manylinux2014_x86_64.whl (39.3 MB)\n",
      "     |████████████████████████████████| 39.3 MB 25.6 MB/s            \n",
      "\u001b[?25hCollecting tabulate>=0.8.0\n",
      "  Downloading tabulate-0.8.9-py3-none-any.whl (25 kB)\n",
      "Collecting seaborn>=0.9.0\n",
      "  Downloading seaborn-0.11.2-py3-none-any.whl (292 kB)\n",
      "     |████████████████████████████████| 292 kB 91.1 MB/s            \n",
      "\u001b[?25hCollecting yfinance>=0.1.63\n",
      "  Downloading yfinance-0.1.69-py2.py3-none-any.whl (26 kB)\n",
      "Collecting pandas>=0.24.0\n",
      "  Downloading pandas-1.4.0-cp38-cp38-manylinux_2_17_x86_64.manylinux2014_x86_64.whl (11.7 MB)\n",
      "     |████████████████████████████████| 11.7 MB 84.7 MB/s            \n",
      "\u001b[?25hCollecting numpy>=1.16.5\n",
      "  Downloading numpy-1.22.1-cp38-cp38-manylinux_2_17_x86_64.manylinux2014_x86_64.whl (16.8 MB)\n",
      "     |████████████████████████████████| 16.8 MB 86.8 MB/s            \n",
      "\u001b[?25hCollecting matplotlib>=3.0.0\n",
      "  Downloading matplotlib-3.5.1-cp38-cp38-manylinux_2_5_x86_64.manylinux1_x86_64.whl (11.3 MB)\n",
      "     |████████████████████████████████| 11.3 MB 84.5 MB/s            \n",
      "\u001b[?25hCollecting fonttools>=4.22.0\n",
      "  Downloading fonttools-4.29.0-py3-none-any.whl (895 kB)\n",
      "     |████████████████████████████████| 895 kB 81.5 MB/s            \n",
      "\u001b[?25hCollecting packaging>=20.0\n",
      "  Downloading packaging-21.3-py3-none-any.whl (40 kB)\n",
      "     |████████████████████████████████| 40 kB 10.9 MB/s            \n",
      "\u001b[?25hCollecting python-dateutil>=2.7\n",
      "  Downloading python_dateutil-2.8.2-py2.py3-none-any.whl (247 kB)\n",
      "     |████████████████████████████████| 247 kB 99.1 MB/s            \n",
      "\u001b[?25hCollecting kiwisolver>=1.0.1\n",
      "  Downloading kiwisolver-1.3.2-cp38-cp38-manylinux_2_5_x86_64.manylinux1_x86_64.whl (1.2 MB)\n",
      "     |████████████████████████████████| 1.2 MB 81.3 MB/s            \n",
      "\u001b[?25hCollecting pillow>=6.2.0\n",
      "  Downloading Pillow-9.0.0-cp38-cp38-manylinux_2_17_x86_64.manylinux2014_x86_64.whl (4.3 MB)\n",
      "     |████████████████████████████████| 4.3 MB 80.2 MB/s            \n",
      "\u001b[?25hCollecting cycler>=0.10\n",
      "  Downloading cycler-0.11.0-py3-none-any.whl (6.4 kB)\n",
      "Collecting pyparsing>=2.2.1\n",
      "  Downloading pyparsing-3.0.7-py3-none-any.whl (98 kB)\n",
      "     |████████████████████████████████| 98 kB 15.7 MB/s            \n",
      "\u001b[?25hCollecting pytz>=2020.1\n",
      "  Downloading pytz-2021.3-py2.py3-none-any.whl (503 kB)\n",
      "     |████████████████████████████████| 503 kB 89.5 MB/s            \n",
      "\u001b[?25hCollecting lxml>=4.5.1\n",
      "  Downloading lxml-4.7.1-cp38-cp38-manylinux_2_17_x86_64.manylinux2014_x86_64.manylinux_2_24_x86_64.whl (6.9 MB)\n",
      "     |████████████████████████████████| 6.9 MB 79.3 MB/s            \n",
      "\u001b[?25hCollecting requests>=2.26\n",
      "  Downloading requests-2.27.1-py2.py3-none-any.whl (63 kB)\n",
      "     |████████████████████████████████| 63 kB 3.8 MB/s             \n",
      "\u001b[?25hCollecting multitasking>=0.0.7\n",
      "  Downloading multitasking-0.0.10.tar.gz (8.2 kB)\n",
      "  Preparing metadata (setup.py) ... \u001b[?25ldone\n",
      "\u001b[?25hCollecting six>=1.5\n",
      "  Downloading six-1.16.0-py2.py3-none-any.whl (11 kB)\n",
      "Collecting certifi>=2017.4.17\n",
      "  Downloading certifi-2021.10.8-py2.py3-none-any.whl (149 kB)\n",
      "     |████████████████████████████████| 149 kB 90.7 MB/s            \n",
      "\u001b[?25hCollecting idna<4,>=2.5\n",
      "  Downloading idna-3.3-py3-none-any.whl (61 kB)\n",
      "     |████████████████████████████████| 61 kB 13.4 MB/s            \n",
      "\u001b[?25hCollecting urllib3<1.27,>=1.21.1\n",
      "  Downloading urllib3-1.26.8-py2.py3-none-any.whl (138 kB)\n",
      "     |████████████████████████████████| 138 kB 98.6 MB/s            \n",
      "\u001b[?25hCollecting charset-normalizer~=2.0.0\n",
      "  Downloading charset_normalizer-2.0.10-py3-none-any.whl (39 kB)\n",
      "Building wheels for collected packages: multitasking\n",
      "  Building wheel for multitasking (setup.py) ... \u001b[?25ldone\n",
      "\u001b[?25h  Created wheel for multitasking: filename=multitasking-0.0.10-py3-none-any.whl size=8500 sha256=3923d08a11bbd7c328f8fc81d905b138ebe451a36354d5bb16c5893b71bfab1c\n",
      "  Stored in directory: /home/repl/.cache/pip/wheels/21/c9/66/b41c847de65c7985db52ec21d59996841598b8b0e93f2b9500\n",
      "Successfully built multitasking\n",
      "Installing collected packages: six, pyparsing, urllib3, pytz, python-dateutil, pillow, packaging, numpy, kiwisolver, idna, fonttools, cycler, charset-normalizer, certifi, scipy, requests, pandas, multitasking, matplotlib, lxml, yfinance, tabulate, seaborn, quantstats\n",
      "\u001b[31mERROR: pip's dependency resolver does not currently take into account all the packages that are installed. This behaviour is the source of the following dependency conflicts.\n",
      "dc-workspace 1.0.0 requires jupytext, which is not installed.\n",
      "tensorflow 2.4.1 requires numpy~=1.19.2, but you have numpy 1.22.1 which is incompatible.\n",
      "tensorflow 2.4.1 requires six~=1.15.0, but you have six 1.16.0 which is incompatible.\n",
      "redshift-connector 2.0.900 requires requests<2.26.1,>=2.23.0, but you have requests 2.27.1 which is incompatible.\n",
      "pythonwhat 2.23.1 requires dill~=0.2.7.1, but you have dill 0.3.3 which is incompatible.\n",
      "pythonwhat 2.23.1 requires jinja2~=2.10, but you have jinja2 3.0.1 which is incompatible.\u001b[0m\n",
      "Successfully installed certifi-2021.10.8 charset-normalizer-2.0.10 cycler-0.11.0 fonttools-4.29.0 idna-3.3 kiwisolver-1.3.2 lxml-4.7.1 matplotlib-3.5.1 multitasking-0.0.10 numpy-1.22.1 packaging-21.3 pandas-1.4.0 pillow-9.0.0 pyparsing-3.0.7 python-dateutil-2.8.2 pytz-2021.3 quantstats-0.0.48 requests-2.27.1 scipy-1.7.3 seaborn-0.11.2 six-1.16.0 tabulate-0.8.9 urllib3-1.26.8 yfinance-0.1.69\n"
     ]
    }
   ],
   "source": [
    "!pip install quantstats"
   ]
  },
  {
   "cell_type": "code",
   "execution_count": 105,
   "metadata": {},
   "outputs": [],
   "source": [
    "# load Packages\n",
    "import numpy as np\n",
    "import pandas as pd\n",
    "import datetime \n",
    "import statsmodels.api as sm\n",
    "import statsmodels.api as smf\n",
    "import seaborn as sb\n",
    "import scipy.optimize as sco\n",
    "import quantstats as qs\n",
    "import pandas_datareader.data as web\n",
    "import requests\n",
    "import statsmodels.api as smf\n",
    "from pandas_datareader import data as pdr\n",
    "import matplotlib.pyplot as plt\n",
    "plt.style.use('fivethirtyeight') # use the \"fivethirtyeight\" style within matplotlib\n",
    "%matplotlib inline"
   ]
  },
  {
   "cell_type": "code",
   "execution_count": 3,
   "metadata": {},
   "outputs": [],
   "source": [
    "# Retrieve selected stock prices for the past 3 yrs\n",
    "\n",
    "# Get today's date\n",
    "today = datetime.date.today()\n",
    "# print(\"Today's date:\", today)\n",
    "\n",
    "# Set today's date so data can be updated\n",
    "stock_prices = pdr.DataReader(['TGT', 'CVX', 'GE', 'TDOC', 'NEE', 'AXP', 'KO', 'PSX'], 'yahoo', start= '2018/10/29', end= today)"
   ]
  },
  {
   "cell_type": "markdown",
   "metadata": {},
   "source": [
    "<b>Summary:</b>\n",
    "\n",
    "- retrieved stocks prices of Target, Chevron, General Electric, Teladoc, NextEra Energy, American Express, Coca-Cola, and Phillips 66 via API\n",
    "- used pandas_datareader package which allows us to read in data from Yahoo! Finance\n",
    "- selected stocks that are in different sectors because I want to diversify my investments"
   ]
  },
  {
   "cell_type": "code",
   "execution_count": 4,
   "metadata": {},
   "outputs": [
    {
     "data": {
      "text/html": [
       "<div>\n",
       "<style scoped>\n",
       "    .dataframe tbody tr th:only-of-type {\n",
       "        vertical-align: middle;\n",
       "    }\n",
       "\n",
       "    .dataframe tbody tr th {\n",
       "        vertical-align: top;\n",
       "    }\n",
       "\n",
       "    .dataframe thead tr th {\n",
       "        text-align: left;\n",
       "    }\n",
       "\n",
       "    .dataframe thead tr:last-of-type th {\n",
       "        text-align: right;\n",
       "    }\n",
       "</style>\n",
       "<table border=\"1\" class=\"dataframe\">\n",
       "  <thead>\n",
       "    <tr>\n",
       "      <th>Attributes</th>\n",
       "      <th colspan=\"8\" halign=\"left\">Adj Close</th>\n",
       "      <th colspan=\"2\" halign=\"left\">Close</th>\n",
       "      <th>...</th>\n",
       "      <th colspan=\"2\" halign=\"left\">Open</th>\n",
       "      <th colspan=\"8\" halign=\"left\">Volume</th>\n",
       "    </tr>\n",
       "    <tr>\n",
       "      <th>Symbols</th>\n",
       "      <th>TGT</th>\n",
       "      <th>CVX</th>\n",
       "      <th>GE</th>\n",
       "      <th>TDOC</th>\n",
       "      <th>NEE</th>\n",
       "      <th>AXP</th>\n",
       "      <th>KO</th>\n",
       "      <th>PSX</th>\n",
       "      <th>TGT</th>\n",
       "      <th>CVX</th>\n",
       "      <th>...</th>\n",
       "      <th>KO</th>\n",
       "      <th>PSX</th>\n",
       "      <th>TGT</th>\n",
       "      <th>CVX</th>\n",
       "      <th>GE</th>\n",
       "      <th>TDOC</th>\n",
       "      <th>NEE</th>\n",
       "      <th>AXP</th>\n",
       "      <th>KO</th>\n",
       "      <th>PSX</th>\n",
       "    </tr>\n",
       "    <tr>\n",
       "      <th>Date</th>\n",
       "      <th></th>\n",
       "      <th></th>\n",
       "      <th></th>\n",
       "      <th></th>\n",
       "      <th></th>\n",
       "      <th></th>\n",
       "      <th></th>\n",
       "      <th></th>\n",
       "      <th></th>\n",
       "      <th></th>\n",
       "      <th></th>\n",
       "      <th></th>\n",
       "      <th></th>\n",
       "      <th></th>\n",
       "      <th></th>\n",
       "      <th></th>\n",
       "      <th></th>\n",
       "      <th></th>\n",
       "      <th></th>\n",
       "      <th></th>\n",
       "      <th></th>\n",
       "    </tr>\n",
       "  </thead>\n",
       "  <tbody>\n",
       "    <tr>\n",
       "      <th>2018-10-29</th>\n",
       "      <td>78.157944</td>\n",
       "      <td>93.219093</td>\n",
       "      <td>84.687035</td>\n",
       "      <td>63.220001</td>\n",
       "      <td>40.272663</td>\n",
       "      <td>96.606934</td>\n",
       "      <td>41.881031</td>\n",
       "      <td>85.453758</td>\n",
       "      <td>84.099998</td>\n",
       "      <td>108.930000</td>\n",
       "      <td>...</td>\n",
       "      <td>46.150002</td>\n",
       "      <td>100.209999</td>\n",
       "      <td>5353000.0</td>\n",
       "      <td>8598300.0</td>\n",
       "      <td>15580331.0</td>\n",
       "      <td>1756500.0</td>\n",
       "      <td>6566800.0</td>\n",
       "      <td>4238700.0</td>\n",
       "      <td>20932200.0</td>\n",
       "      <td>2752000.0</td>\n",
       "    </tr>\n",
       "    <tr>\n",
       "      <th>2018-10-30</th>\n",
       "      <td>79.709930</td>\n",
       "      <td>94.862190</td>\n",
       "      <td>77.250366</td>\n",
       "      <td>67.190002</td>\n",
       "      <td>40.452133</td>\n",
       "      <td>97.456627</td>\n",
       "      <td>42.935719</td>\n",
       "      <td>88.524277</td>\n",
       "      <td>85.769997</td>\n",
       "      <td>110.849998</td>\n",
       "      <td>...</td>\n",
       "      <td>46.619999</td>\n",
       "      <td>99.379997</td>\n",
       "      <td>5767600.0</td>\n",
       "      <td>7523800.0</td>\n",
       "      <td>44846971.0</td>\n",
       "      <td>1699200.0</td>\n",
       "      <td>7572800.0</td>\n",
       "      <td>3778200.0</td>\n",
       "      <td>20895400.0</td>\n",
       "      <td>2554400.0</td>\n",
       "    </tr>\n",
       "    <tr>\n",
       "      <th>2018-10-31</th>\n",
       "      <td>77.721146</td>\n",
       "      <td>95.546799</td>\n",
       "      <td>76.643288</td>\n",
       "      <td>69.339996</td>\n",
       "      <td>40.207397</td>\n",
       "      <td>98.077187</td>\n",
       "      <td>43.161079</td>\n",
       "      <td>89.183472</td>\n",
       "      <td>83.629997</td>\n",
       "      <td>111.650002</td>\n",
       "      <td>...</td>\n",
       "      <td>47.500000</td>\n",
       "      <td>103.120003</td>\n",
       "      <td>6674200.0</td>\n",
       "      <td>7429800.0</td>\n",
       "      <td>26244218.0</td>\n",
       "      <td>1590800.0</td>\n",
       "      <td>9051600.0</td>\n",
       "      <td>4511300.0</td>\n",
       "      <td>25309400.0</td>\n",
       "      <td>2688200.0</td>\n",
       "    </tr>\n",
       "  </tbody>\n",
       "</table>\n",
       "<p>3 rows × 48 columns</p>\n",
       "</div>"
      ],
      "text/plain": [
       "Attributes  Adj Close                                                         \\\n",
       "Symbols           TGT        CVX         GE       TDOC        NEE        AXP   \n",
       "Date                                                                           \n",
       "2018-10-29  78.157944  93.219093  84.687035  63.220001  40.272663  96.606934   \n",
       "2018-10-30  79.709930  94.862190  77.250366  67.190002  40.452133  97.456627   \n",
       "2018-10-31  77.721146  95.546799  76.643288  69.339996  40.207397  98.077187   \n",
       "\n",
       "Attributes                            Close              ...       Open  \\\n",
       "Symbols            KO        PSX        TGT         CVX  ...         KO   \n",
       "Date                                                     ...              \n",
       "2018-10-29  41.881031  85.453758  84.099998  108.930000  ...  46.150002   \n",
       "2018-10-30  42.935719  88.524277  85.769997  110.849998  ...  46.619999   \n",
       "2018-10-31  43.161079  89.183472  83.629997  111.650002  ...  47.500000   \n",
       "\n",
       "Attributes                 Volume                                    \\\n",
       "Symbols            PSX        TGT        CVX          GE       TDOC   \n",
       "Date                                                                  \n",
       "2018-10-29  100.209999  5353000.0  8598300.0  15580331.0  1756500.0   \n",
       "2018-10-30   99.379997  5767600.0  7523800.0  44846971.0  1699200.0   \n",
       "2018-10-31  103.120003  6674200.0  7429800.0  26244218.0  1590800.0   \n",
       "\n",
       "Attributes                                               \n",
       "Symbols           NEE        AXP          KO        PSX  \n",
       "Date                                                     \n",
       "2018-10-29  6566800.0  4238700.0  20932200.0  2752000.0  \n",
       "2018-10-30  7572800.0  3778200.0  20895400.0  2554400.0  \n",
       "2018-10-31  9051600.0  4511300.0  25309400.0  2688200.0  \n",
       "\n",
       "[3 rows x 48 columns]"
      ]
     },
     "execution_count": 4,
     "metadata": {},
     "output_type": "execute_result"
    }
   ],
   "source": [
    "# View the top 3 observations\n",
    "stock_prices.head(n=3)"
   ]
  },
  {
   "cell_type": "code",
   "execution_count": 5,
   "metadata": {},
   "outputs": [
    {
     "data": {
      "text/html": [
       "<div>\n",
       "<style scoped>\n",
       "    .dataframe tbody tr th:only-of-type {\n",
       "        vertical-align: middle;\n",
       "    }\n",
       "\n",
       "    .dataframe tbody tr th {\n",
       "        vertical-align: top;\n",
       "    }\n",
       "\n",
       "    .dataframe thead th {\n",
       "        text-align: right;\n",
       "    }\n",
       "</style>\n",
       "<table border=\"1\" class=\"dataframe\">\n",
       "  <thead>\n",
       "    <tr style=\"text-align: right;\">\n",
       "      <th>Symbols</th>\n",
       "      <th>TGT</th>\n",
       "      <th>CVX</th>\n",
       "      <th>GE</th>\n",
       "      <th>TDOC</th>\n",
       "      <th>NEE</th>\n",
       "      <th>AXP</th>\n",
       "      <th>KO</th>\n",
       "      <th>PSX</th>\n",
       "    </tr>\n",
       "    <tr>\n",
       "      <th>Date</th>\n",
       "      <th></th>\n",
       "      <th></th>\n",
       "      <th></th>\n",
       "      <th></th>\n",
       "      <th></th>\n",
       "      <th></th>\n",
       "      <th></th>\n",
       "      <th></th>\n",
       "    </tr>\n",
       "  </thead>\n",
       "  <tbody>\n",
       "    <tr>\n",
       "      <th>2018-10-29</th>\n",
       "      <td>78.157944</td>\n",
       "      <td>93.219093</td>\n",
       "      <td>84.687035</td>\n",
       "      <td>63.220001</td>\n",
       "      <td>40.272663</td>\n",
       "      <td>96.606934</td>\n",
       "      <td>41.881031</td>\n",
       "      <td>85.453758</td>\n",
       "    </tr>\n",
       "    <tr>\n",
       "      <th>2018-10-30</th>\n",
       "      <td>79.709930</td>\n",
       "      <td>94.862190</td>\n",
       "      <td>77.250366</td>\n",
       "      <td>67.190002</td>\n",
       "      <td>40.452133</td>\n",
       "      <td>97.456627</td>\n",
       "      <td>42.935719</td>\n",
       "      <td>88.524277</td>\n",
       "    </tr>\n",
       "    <tr>\n",
       "      <th>2018-10-31</th>\n",
       "      <td>77.721146</td>\n",
       "      <td>95.546799</td>\n",
       "      <td>76.643288</td>\n",
       "      <td>69.339996</td>\n",
       "      <td>40.207397</td>\n",
       "      <td>98.077187</td>\n",
       "      <td>43.161079</td>\n",
       "      <td>89.183472</td>\n",
       "    </tr>\n",
       "    <tr>\n",
       "      <th>2018-11-01</th>\n",
       "      <td>78.278770</td>\n",
       "      <td>95.136024</td>\n",
       "      <td>72.697289</td>\n",
       "      <td>69.519997</td>\n",
       "      <td>39.734234</td>\n",
       "      <td>99.327858</td>\n",
       "      <td>43.034882</td>\n",
       "      <td>88.905907</td>\n",
       "    </tr>\n",
       "    <tr>\n",
       "      <th>2018-11-02</th>\n",
       "      <td>78.446053</td>\n",
       "      <td>98.182587</td>\n",
       "      <td>70.496658</td>\n",
       "      <td>72.510002</td>\n",
       "      <td>39.193474</td>\n",
       "      <td>99.012794</td>\n",
       "      <td>43.269257</td>\n",
       "      <td>85.878792</td>\n",
       "    </tr>\n",
       "  </tbody>\n",
       "</table>\n",
       "</div>"
      ],
      "text/plain": [
       "Symbols           TGT        CVX         GE       TDOC        NEE        AXP  \\\n",
       "Date                                                                           \n",
       "2018-10-29  78.157944  93.219093  84.687035  63.220001  40.272663  96.606934   \n",
       "2018-10-30  79.709930  94.862190  77.250366  67.190002  40.452133  97.456627   \n",
       "2018-10-31  77.721146  95.546799  76.643288  69.339996  40.207397  98.077187   \n",
       "2018-11-01  78.278770  95.136024  72.697289  69.519997  39.734234  99.327858   \n",
       "2018-11-02  78.446053  98.182587  70.496658  72.510002  39.193474  99.012794   \n",
       "\n",
       "Symbols            KO        PSX  \n",
       "Date                              \n",
       "2018-10-29  41.881031  85.453758  \n",
       "2018-10-30  42.935719  88.524277  \n",
       "2018-10-31  43.161079  89.183472  \n",
       "2018-11-01  43.034882  88.905907  \n",
       "2018-11-02  43.269257  85.878792  "
      ]
     },
     "execution_count": 5,
     "metadata": {},
     "output_type": "execute_result"
    }
   ],
   "source": [
    "# Retrieve only the Adj. Close col\n",
    "stocks_df = stock_prices['Adj Close']\n",
    "stocks_df.head()"
   ]
  },
  {
   "cell_type": "markdown",
   "metadata": {},
   "source": [
    "<b>Summary:</b>\n",
    "\n",
    "- created a new data frame to contain only 'Adj. Close' for each stock price as the retrieved raw dataset contained many columns that we don't need"
   ]
  },
  {
   "cell_type": "code",
   "execution_count": 6,
   "metadata": {},
   "outputs": [
    {
     "name": "stdout",
     "output_type": "stream",
     "text": [
      "<class 'pandas.core.frame.DataFrame'>\n",
      "DatetimeIndex: 815 entries, 2018-10-29 to 2022-01-24\n",
      "Data columns (total 8 columns):\n",
      " #   Column  Non-Null Count  Dtype  \n",
      "---  ------  --------------  -----  \n",
      " 0   TGT     815 non-null    float64\n",
      " 1   CVX     815 non-null    float64\n",
      " 2   GE      815 non-null    float64\n",
      " 3   TDOC    815 non-null    float64\n",
      " 4   NEE     815 non-null    float64\n",
      " 5   AXP     815 non-null    float64\n",
      " 6   KO      815 non-null    float64\n",
      " 7   PSX     815 non-null    float64\n",
      "dtypes: float64(8)\n",
      "memory usage: 57.3 KB\n"
     ]
    }
   ],
   "source": [
    "# Display a summary of revised stocks df \n",
    "stocks_df.info()"
   ]
  },
  {
   "cell_type": "markdown",
   "metadata": {},
   "source": [
    "<b>Summary:</b>\n",
    "\n",
    "- no missing values, so there's no need to use any data imputation methods\n",
    "- there are a total of 814 observations spread across the past 3 years\n",
    "- data type is in float or in other words, decimal form"
   ]
  },
  {
   "cell_type": "code",
   "execution_count": 7,
   "metadata": {},
   "outputs": [
    {
     "data": {
      "image/png": "[encoded data removed]",
      "text/plain": [
       "<Figure size 432x288 with 1 Axes>"
      ]
     },
     "metadata": {
      "needs_background": "light"
     },
     "output_type": "display_data"
    }
   ],
   "source": [
    "# Set the color palette\n",
    "sb.set_palette(sb.color_palette(\"bright\"))\n",
    "\n",
    "# Plot all stocks\n",
    "plt.plot(stocks_df)\n",
    "plt.ylabel('Stock Prices')\n",
    "\n",
    "# Do not show x-axis\n",
    "ax = plt.gca()\n",
    "ax.axes.xaxis.set_visible(False)\n",
    "\n",
    "# Add legends\n",
    "plt.legend(['TGT', 'CVX', 'GE', 'TDOC', 'NEE', 'AXP', 'KO', 'PSX'], loc = \"upper left\")\n",
    "\n",
    "\n",
    "# Display the plot\n",
    "plt.show()"
   ]
  },
  {
   "cell_type": "markdown",
   "metadata": {},
   "source": [
    "<b>Summary:</b>\n",
    "\n",
    "- this graph showcase a plot that contains the trend for 8 stock prices in the past 3 years\n",
    "- we can see that Teladoc Health(TDOC) has the highest surge in the stock price as compared to the other 7 stocks \n",
    "- perhaps Target(TGT) is relatively more stable as it has the second-highest stock price, despite its stock price did drop recently"
   ]
  },
  {
   "cell_type": "code",
   "execution_count": 8,
   "metadata": {},
   "outputs": [
    {
     "data": {
      "text/html": [
       "<div>\n",
       "<style scoped>\n",
       "    .dataframe tbody tr th:only-of-type {\n",
       "        vertical-align: middle;\n",
       "    }\n",
       "\n",
       "    .dataframe tbody tr th {\n",
       "        vertical-align: top;\n",
       "    }\n",
       "\n",
       "    .dataframe thead th {\n",
       "        text-align: right;\n",
       "    }\n",
       "</style>\n",
       "<table border=\"1\" class=\"dataframe\">\n",
       "  <thead>\n",
       "    <tr style=\"text-align: right;\">\n",
       "      <th>Symbols</th>\n",
       "      <th>TGT</th>\n",
       "      <th>CVX</th>\n",
       "      <th>GE</th>\n",
       "      <th>TDOC</th>\n",
       "      <th>NEE</th>\n",
       "      <th>AXP</th>\n",
       "      <th>KO</th>\n",
       "      <th>PSX</th>\n",
       "    </tr>\n",
       "  </thead>\n",
       "  <tbody>\n",
       "    <tr>\n",
       "      <th>count</th>\n",
       "      <td>815.000000</td>\n",
       "      <td>815.000000</td>\n",
       "      <td>815.000000</td>\n",
       "      <td>815.000000</td>\n",
       "      <td>815.000000</td>\n",
       "      <td>815.000000</td>\n",
       "      <td>815.000000</td>\n",
       "      <td>815.000000</td>\n",
       "    </tr>\n",
       "    <tr>\n",
       "      <th>mean</th>\n",
       "      <td>144.397585</td>\n",
       "      <td>96.865672</td>\n",
       "      <td>80.816373</td>\n",
       "      <td>130.425411</td>\n",
       "      <td>63.633677</td>\n",
       "      <td>122.961825</td>\n",
       "      <td>49.136419</td>\n",
       "      <td>76.163175</td>\n",
       "    </tr>\n",
       "    <tr>\n",
       "      <th>std</th>\n",
       "      <td>63.076554</td>\n",
       "      <td>13.723926</td>\n",
       "      <td>19.267083</td>\n",
       "      <td>62.595145</td>\n",
       "      <td>14.443673</td>\n",
       "      <td>27.511929</td>\n",
       "      <td>4.810748</td>\n",
       "      <td>14.240943</td>\n",
       "    </tr>\n",
       "    <tr>\n",
       "      <th>min</th>\n",
       "      <td>57.282162</td>\n",
       "      <td>49.326843</td>\n",
       "      <td>43.604053</td>\n",
       "      <td>42.880001</td>\n",
       "      <td>39.193474</td>\n",
       "      <td>67.033669</td>\n",
       "      <td>35.516022</td>\n",
       "      <td>38.522495</td>\n",
       "    </tr>\n",
       "    <tr>\n",
       "      <th>25%</th>\n",
       "      <td>89.271893</td>\n",
       "      <td>86.103508</td>\n",
       "      <td>63.722494</td>\n",
       "      <td>68.244999</td>\n",
       "      <td>51.165653</td>\n",
       "      <td>102.145294</td>\n",
       "      <td>44.923758</td>\n",
       "      <td>67.874329</td>\n",
       "    </tr>\n",
       "    <tr>\n",
       "      <th>50%</th>\n",
       "      <td>120.523499</td>\n",
       "      <td>100.580360</td>\n",
       "      <td>81.326340</td>\n",
       "      <td>135.399994</td>\n",
       "      <td>64.069366</td>\n",
       "      <td>115.985466</td>\n",
       "      <td>49.160164</td>\n",
       "      <td>77.347992</td>\n",
       "    </tr>\n",
       "    <tr>\n",
       "      <th>75%</th>\n",
       "      <td>201.171997</td>\n",
       "      <td>106.227474</td>\n",
       "      <td>99.917404</td>\n",
       "      <td>182.809998</td>\n",
       "      <td>74.464375</td>\n",
       "      <td>145.608833</td>\n",
       "      <td>53.084070</td>\n",
       "      <td>85.541931</td>\n",
       "    </tr>\n",
       "    <tr>\n",
       "      <th>max</th>\n",
       "      <td>266.390015</td>\n",
       "      <td>129.380005</td>\n",
       "      <td>114.523300</td>\n",
       "      <td>294.540009</td>\n",
       "      <td>93.360001</td>\n",
       "      <td>186.611649</td>\n",
       "      <td>61.389999</td>\n",
       "      <td>107.645660</td>\n",
       "    </tr>\n",
       "  </tbody>\n",
       "</table>\n",
       "</div>"
      ],
      "text/plain": [
       "Symbols         TGT         CVX          GE        TDOC         NEE  \\\n",
       "count    815.000000  815.000000  815.000000  815.000000  815.000000   \n",
       "mean     144.397585   96.865672   80.816373  130.425411   63.633677   \n",
       "std       63.076554   13.723926   19.267083   62.595145   14.443673   \n",
       "min       57.282162   49.326843   43.604053   42.880001   39.193474   \n",
       "25%       89.271893   86.103508   63.722494   68.244999   51.165653   \n",
       "50%      120.523499  100.580360   81.326340  135.399994   64.069366   \n",
       "75%      201.171997  106.227474   99.917404  182.809998   74.464375   \n",
       "max      266.390015  129.380005  114.523300  294.540009   93.360001   \n",
       "\n",
       "Symbols         AXP          KO         PSX  \n",
       "count    815.000000  815.000000  815.000000  \n",
       "mean     122.961825   49.136419   76.163175  \n",
       "std       27.511929    4.810748   14.240943  \n",
       "min       67.033669   35.516022   38.522495  \n",
       "25%      102.145294   44.923758   67.874329  \n",
       "50%      115.985466   49.160164   77.347992  \n",
       "75%      145.608833   53.084070   85.541931  \n",
       "max      186.611649   61.389999  107.645660  "
      ]
     },
     "execution_count": 8,
     "metadata": {},
     "output_type": "execute_result"
    }
   ],
   "source": [
    "# Summarize all stock prices\n",
    "stocks_df.describe()"
   ]
  },
  {
   "cell_type": "markdown",
   "metadata": {},
   "source": [
    "<b>Summary:</b>\n",
    "\n",
    "- as we can see, TGT and TDOC perhaps are the two most valuable stocks, per se, in terms of increase in stock prices, with min at 57 and 42 in 2018 as compared to recent times at 266 and 294, respectively "
   ]
  },
  {
   "cell_type": "code",
   "execution_count": 9,
   "metadata": {},
   "outputs": [
    {
     "data": {
      "text/html": [
       "<div>\n",
       "<style scoped>\n",
       "    .dataframe tbody tr th:only-of-type {\n",
       "        vertical-align: middle;\n",
       "    }\n",
       "\n",
       "    .dataframe tbody tr th {\n",
       "        vertical-align: top;\n",
       "    }\n",
       "\n",
       "    .dataframe thead th {\n",
       "        text-align: right;\n",
       "    }\n",
       "</style>\n",
       "<table border=\"1\" class=\"dataframe\">\n",
       "  <thead>\n",
       "    <tr style=\"text-align: right;\">\n",
       "      <th>Symbols</th>\n",
       "      <th>TGT</th>\n",
       "      <th>CVX</th>\n",
       "      <th>GE</th>\n",
       "      <th>TDOC</th>\n",
       "      <th>NEE</th>\n",
       "      <th>AXP</th>\n",
       "      <th>KO</th>\n",
       "      <th>PSX</th>\n",
       "    </tr>\n",
       "    <tr>\n",
       "      <th>Symbols</th>\n",
       "      <th></th>\n",
       "      <th></th>\n",
       "      <th></th>\n",
       "      <th></th>\n",
       "      <th></th>\n",
       "      <th></th>\n",
       "      <th></th>\n",
       "      <th></th>\n",
       "    </tr>\n",
       "  </thead>\n",
       "  <tbody>\n",
       "    <tr>\n",
       "      <th>TGT</th>\n",
       "      <td>1.000000</td>\n",
       "      <td>0.119024</td>\n",
       "      <td>0.660306</td>\n",
       "      <td>0.481205</td>\n",
       "      <td>0.930313</td>\n",
       "      <td>0.836453</td>\n",
       "      <td>0.764429</td>\n",
       "      <td>-0.177437</td>\n",
       "    </tr>\n",
       "    <tr>\n",
       "      <th>CVX</th>\n",
       "      <td>0.119024</td>\n",
       "      <td>1.000000</td>\n",
       "      <td>0.600704</td>\n",
       "      <td>-0.649795</td>\n",
       "      <td>-0.017369</td>\n",
       "      <td>0.580726</td>\n",
       "      <td>0.430316</td>\n",
       "      <td>0.798879</td>\n",
       "    </tr>\n",
       "    <tr>\n",
       "      <th>GE</th>\n",
       "      <td>0.660306</td>\n",
       "      <td>0.600704</td>\n",
       "      <td>1.000000</td>\n",
       "      <td>-0.029871</td>\n",
       "      <td>0.538040</td>\n",
       "      <td>0.879339</td>\n",
       "      <td>0.739384</td>\n",
       "      <td>0.416128</td>\n",
       "    </tr>\n",
       "    <tr>\n",
       "      <th>TDOC</th>\n",
       "      <td>0.481205</td>\n",
       "      <td>-0.649795</td>\n",
       "      <td>-0.029871</td>\n",
       "      <td>1.000000</td>\n",
       "      <td>0.611210</td>\n",
       "      <td>0.018260</td>\n",
       "      <td>0.063485</td>\n",
       "      <td>-0.633135</td>\n",
       "    </tr>\n",
       "    <tr>\n",
       "      <th>NEE</th>\n",
       "      <td>0.930313</td>\n",
       "      <td>-0.017369</td>\n",
       "      <td>0.538040</td>\n",
       "      <td>0.611210</td>\n",
       "      <td>1.000000</td>\n",
       "      <td>0.701062</td>\n",
       "      <td>0.747416</td>\n",
       "      <td>-0.315309</td>\n",
       "    </tr>\n",
       "    <tr>\n",
       "      <th>AXP</th>\n",
       "      <td>0.836453</td>\n",
       "      <td>0.580726</td>\n",
       "      <td>0.879339</td>\n",
       "      <td>0.018260</td>\n",
       "      <td>0.701062</td>\n",
       "      <td>1.000000</td>\n",
       "      <td>0.850844</td>\n",
       "      <td>0.253183</td>\n",
       "    </tr>\n",
       "    <tr>\n",
       "      <th>KO</th>\n",
       "      <td>0.764429</td>\n",
       "      <td>0.430316</td>\n",
       "      <td>0.739384</td>\n",
       "      <td>0.063485</td>\n",
       "      <td>0.747416</td>\n",
       "      <td>0.850844</td>\n",
       "      <td>1.000000</td>\n",
       "      <td>0.189728</td>\n",
       "    </tr>\n",
       "    <tr>\n",
       "      <th>PSX</th>\n",
       "      <td>-0.177437</td>\n",
       "      <td>0.798879</td>\n",
       "      <td>0.416128</td>\n",
       "      <td>-0.633135</td>\n",
       "      <td>-0.315309</td>\n",
       "      <td>0.253183</td>\n",
       "      <td>0.189728</td>\n",
       "      <td>1.000000</td>\n",
       "    </tr>\n",
       "  </tbody>\n",
       "</table>\n",
       "</div>"
      ],
      "text/plain": [
       "Symbols       TGT       CVX        GE      TDOC       NEE       AXP        KO  \\\n",
       "Symbols                                                                         \n",
       "TGT      1.000000  0.119024  0.660306  0.481205  0.930313  0.836453  0.764429   \n",
       "CVX      0.119024  1.000000  0.600704 -0.649795 -0.017369  0.580726  0.430316   \n",
       "GE       0.660306  0.600704  1.000000 -0.029871  0.538040  0.879339  0.739384   \n",
       "TDOC     0.481205 -0.649795 -0.029871  1.000000  0.611210  0.018260  0.063485   \n",
       "NEE      0.930313 -0.017369  0.538040  0.611210  1.000000  0.701062  0.747416   \n",
       "AXP      0.836453  0.580726  0.879339  0.018260  0.701062  1.000000  0.850844   \n",
       "KO       0.764429  0.430316  0.739384  0.063485  0.747416  0.850844  1.000000   \n",
       "PSX     -0.177437  0.798879  0.416128 -0.633135 -0.315309  0.253183  0.189728   \n",
       "\n",
       "Symbols       PSX  \n",
       "Symbols            \n",
       "TGT     -0.177437  \n",
       "CVX      0.798879  \n",
       "GE       0.416128  \n",
       "TDOC    -0.633135  \n",
       "NEE     -0.315309  \n",
       "AXP      0.253183  \n",
       "KO       0.189728  \n",
       "PSX      1.000000  "
      ]
     },
     "execution_count": 9,
     "metadata": {},
     "output_type": "execute_result"
    }
   ],
   "source": [
    "# Create a correlation matrix\n",
    "corr_matrix = stocks_df.corr(method='pearson')\n",
    "corr_matrix"
   ]
  },
  {
   "cell_type": "markdown",
   "metadata": {},
   "source": [
    "<b>Summary:</b> \n",
    "\n",
    "Using Pearson correlation method to calculate correlation coefficients: \n",
    "- correlation of 1 = perfect positive correlation \n",
    "- correlation of 0 = no correlation \n",
    "- correlation of -1 = perfect negative correlation, in other words, indicate an inverse relationship \n",
    "- NOTE: having a high correlation, doesn't necessarily imply causation \n",
    "\n",
    "<b>Some Interesting Findings:</b> \n",
    "\n",
    "- TGT is most closely correlated with NextEra Energy(NEE) and has an inverse relationship with Phillips66(PSX) \n",
    "- GE is most closely correlated with American Express(AXP) \n",
    "- TDOC is more closely correlated with NEE and has a very low relationship with the other 7 stocks \n",
    "- AXP and KO have positive correlation coefficients with all 7 stocks \n",
    "\n",
    "Overall, our portfolio is pretty diversify, as there are couple of stocks that have an inverse relationship with other stocks"
   ]
  },
  {
   "cell_type": "code",
   "execution_count": 10,
   "metadata": {},
   "outputs": [
    {
     "name": "stdout",
     "output_type": "stream",
     "text": [
      "Correlation Matrix - Stocks\n"
     ]
    },
    {
     "data": {
      "image/png": "[encoded data removed]",
      "text/plain": [
       "<Figure size 432x288 with 2 Axes>"
      ]
     },
     "metadata": {
      "needs_background": "light"
     },
     "output_type": "display_data"
    }
   ],
   "source": [
    "# Plot the corr matrix\n",
    "fig1 = plt.figure()\n",
    "sb.heatmap(corr_matrix,xticklabels=corr_matrix.columns, yticklabels=corr_matrix.columns,\n",
    "cmap='YlGnBu', annot=True, linewidth=0.5)\n",
    "print('Correlation Matrix - Stocks')\n",
    "plt.show(fig1)"
   ]
  },
  {
   "cell_type": "markdown",
   "metadata": {},
   "source": [
    "## II. Calculate the Percentage Changes and the Standard Deviation"
   ]
  },
  {
   "cell_type": "code",
   "execution_count": 11,
   "metadata": {},
   "outputs": [
    {
     "name": "stdout",
     "output_type": "stream",
     "text": [
      "Symbols      TGT   CVX    GE  TDOC   NEE   AXP    KO   PSX\n",
      "Date                                                      \n",
      "2018-10-29   NaN   NaN   NaN   NaN   NaN   NaN   NaN   NaN\n",
      "2018-10-30  1.99  1.76 -8.78  6.28  0.45  0.88  2.52  3.59\n",
      "2018-10-31 -2.50  0.72 -0.79  3.20 -0.61  0.64  0.52  0.74\n",
      "2018-11-01  0.72 -0.43 -5.15  0.26 -1.18  1.28 -0.29 -0.31\n",
      "2018-11-02  0.21  3.20 -3.03  4.30 -1.36 -0.32  0.54 -3.40\n",
      "...          ...   ...   ...   ...   ...   ...   ...   ...\n",
      "2022-01-18 -0.63  0.33 -0.26 -4.86 -2.34 -1.32 -0.80  0.09\n",
      "2022-01-19  1.74 -0.36 -2.21 -0.25  1.65 -2.88  0.16 -1.60\n",
      "2022-01-20 -0.95 -0.36 -2.36  0.90  1.11 -0.29 -0.41 -1.99\n",
      "2022-01-21 -2.02 -1.20 -1.98 -4.32 -1.09 -1.35 -0.49 -2.41\n",
      "2022-01-24  1.27  0.46  0.45  3.14 -0.73  0.11 -0.86 -0.64\n",
      "\n",
      "[815 rows x 8 columns]\n"
     ]
    }
   ],
   "source": [
    "# Calculate percentage changes for all stocks\n",
    "stock_pct = stocks_df.pct_change()\n",
    "stock_pct.head()\n",
    "print(stock_pct.round(4)*100)"
   ]
  },
  {
   "cell_type": "markdown",
   "metadata": {},
   "source": [
    "Now, we are done with data exploration, the first step is to calc. the percentage changes for each stock. The percentage changes are basically stock prices changes among each day. "
   ]
  },
  {
   "cell_type": "code",
   "execution_count": 12,
   "metadata": {},
   "outputs": [
    {
     "name": "stdout",
     "output_type": "stream",
     "text": [
      "Symbols\n",
      "TGT     0.001477\n",
      "CVX     0.000686\n",
      "GE      0.000617\n",
      "TDOC    0.000901\n",
      "NEE     0.001029\n",
      "AXP     0.000936\n",
      "KO      0.000551\n",
      "PSX     0.000383\n",
      "dtype: float64\n",
      "Portfolio's Mean Returns: 0.08%\n"
     ]
    }
   ],
   "source": [
    "# Calculate the mean returns for all stocks\n",
    "mean_daily = stock_pct.mean()\n",
    "print(mean_daily)\n",
    "\n",
    "# Print the overall mean returns for our portfolio \n",
    "print(\"Portfolio's Mean Returns:\", str(np.round(mean_daily.mean().mean(), 4) * 100) + '%')"
   ]
  },
  {
   "cell_type": "markdown",
   "metadata": {},
   "source": [
    "<b>Summary:</b> \n",
    "- our daily mean return is positive for all 8 stocks"
   ]
  },
  {
   "cell_type": "code",
   "execution_count": 13,
   "metadata": {},
   "outputs": [],
   "source": [
    "# Define weights for each stock \n",
    "port_weights = np.array([0.125, 0.125, 0.125, 0.125, 0.125, 0.125, 0.125, 0.125])"
   ]
  },
  {
   "cell_type": "markdown",
   "metadata": {},
   "source": [
    "<b>Summary:</b> \n",
    "\n",
    "The next step we should do is create a hypothetical portfolio and assign random weights to each selected stock. \n",
    "- created a dummy portfolio by assigning equal weights to each stock(all 8 stocks' weights will add up to 1). \n",
    "- will run a Monte Carlo simulation and use an optimal python package to optimize our portfolio weights"
   ]
  },
  {
   "cell_type": "code",
   "execution_count": 14,
   "metadata": {},
   "outputs": [
    {
     "name": "stdout",
     "output_type": "stream",
     "text": [
      "Portfolio's Stock Performance 0.08%\n"
     ]
    }
   ],
   "source": [
    "# Calculate the portfolio performance\n",
    "stock_perf = np.sum(mean_daily*port_weights) \n",
    "print(\"Portfolio's Stock Performance\", str(np.round(stock_perf, 4) * 100) + '%')"
   ]
  },
  {
   "cell_type": "markdown",
   "metadata": {},
   "source": [
    "<b>Summary:</b> \n",
    "\n",
    "- our portoflio performance is around 8%, not exactly horrible as we are close to the average stock market return of 10% \n",
    "- our avg annual rate of return may able to improve after we run our simulation or use an optimal portfolio package to find our optimal portfolio weights"
   ]
  },
  {
   "cell_type": "code",
   "execution_count": 15,
   "metadata": {},
   "outputs": [],
   "source": [
    "# Create a column named Portfolio\n",
    "stock_pct['Portfolio']=stock_pct.dot(port_weights)"
   ]
  },
  {
   "cell_type": "markdown",
   "metadata": {},
   "source": [
    "Let's create a column named \"Portfolio\", so we can track the daily cumumlative returns and to track it, we can use numpy's dot function to multiply the series of portfolio weights element-wise. "
   ]
  },
  {
   "cell_type": "code",
   "execution_count": 16,
   "metadata": {},
   "outputs": [
    {
     "data": {
      "text/html": [
       "<div>\n",
       "<style scoped>\n",
       "    .dataframe tbody tr th:only-of-type {\n",
       "        vertical-align: middle;\n",
       "    }\n",
       "\n",
       "    .dataframe tbody tr th {\n",
       "        vertical-align: top;\n",
       "    }\n",
       "\n",
       "    .dataframe thead th {\n",
       "        text-align: right;\n",
       "    }\n",
       "</style>\n",
       "<table border=\"1\" class=\"dataframe\">\n",
       "  <thead>\n",
       "    <tr style=\"text-align: right;\">\n",
       "      <th>Symbols</th>\n",
       "      <th>TGT</th>\n",
       "      <th>CVX</th>\n",
       "      <th>GE</th>\n",
       "      <th>TDOC</th>\n",
       "      <th>NEE</th>\n",
       "      <th>AXP</th>\n",
       "      <th>KO</th>\n",
       "      <th>PSX</th>\n",
       "      <th>Portfolio</th>\n",
       "    </tr>\n",
       "    <tr>\n",
       "      <th>Date</th>\n",
       "      <th></th>\n",
       "      <th></th>\n",
       "      <th></th>\n",
       "      <th></th>\n",
       "      <th></th>\n",
       "      <th></th>\n",
       "      <th></th>\n",
       "      <th></th>\n",
       "      <th></th>\n",
       "    </tr>\n",
       "  </thead>\n",
       "  <tbody>\n",
       "    <tr>\n",
       "      <th>2018-10-29</th>\n",
       "      <td>NaN</td>\n",
       "      <td>NaN</td>\n",
       "      <td>NaN</td>\n",
       "      <td>NaN</td>\n",
       "      <td>NaN</td>\n",
       "      <td>NaN</td>\n",
       "      <td>NaN</td>\n",
       "      <td>NaN</td>\n",
       "      <td>NaN</td>\n",
       "    </tr>\n",
       "    <tr>\n",
       "      <th>2018-10-30</th>\n",
       "      <td>1.019857</td>\n",
       "      <td>1.017626</td>\n",
       "      <td>0.912186</td>\n",
       "      <td>1.062797</td>\n",
       "      <td>1.004456</td>\n",
       "      <td>1.008795</td>\n",
       "      <td>1.025183</td>\n",
       "      <td>1.035932</td>\n",
       "      <td>1.010854</td>\n",
       "    </tr>\n",
       "    <tr>\n",
       "      <th>2018-10-31</th>\n",
       "      <td>0.994411</td>\n",
       "      <td>1.024970</td>\n",
       "      <td>0.905018</td>\n",
       "      <td>1.096805</td>\n",
       "      <td>0.998379</td>\n",
       "      <td>1.015219</td>\n",
       "      <td>1.030564</td>\n",
       "      <td>1.043646</td>\n",
       "      <td>1.013308</td>\n",
       "    </tr>\n",
       "    <tr>\n",
       "      <th>2018-11-01</th>\n",
       "      <td>1.001546</td>\n",
       "      <td>1.020564</td>\n",
       "      <td>0.858423</td>\n",
       "      <td>1.099652</td>\n",
       "      <td>0.986630</td>\n",
       "      <td>1.028165</td>\n",
       "      <td>1.027551</td>\n",
       "      <td>1.040398</td>\n",
       "      <td>1.006840</td>\n",
       "    </tr>\n",
       "    <tr>\n",
       "      <th>2018-11-02</th>\n",
       "      <td>1.003686</td>\n",
       "      <td>1.053245</td>\n",
       "      <td>0.832437</td>\n",
       "      <td>1.146947</td>\n",
       "      <td>0.973203</td>\n",
       "      <td>1.024904</td>\n",
       "      <td>1.033147</td>\n",
       "      <td>1.004974</td>\n",
       "      <td>1.007030</td>\n",
       "    </tr>\n",
       "  </tbody>\n",
       "</table>\n",
       "</div>"
      ],
      "text/plain": [
       "Symbols          TGT       CVX        GE      TDOC       NEE       AXP  \\\n",
       "Date                                                                     \n",
       "2018-10-29       NaN       NaN       NaN       NaN       NaN       NaN   \n",
       "2018-10-30  1.019857  1.017626  0.912186  1.062797  1.004456  1.008795   \n",
       "2018-10-31  0.994411  1.024970  0.905018  1.096805  0.998379  1.015219   \n",
       "2018-11-01  1.001546  1.020564  0.858423  1.099652  0.986630  1.028165   \n",
       "2018-11-02  1.003686  1.053245  0.832437  1.146947  0.973203  1.024904   \n",
       "\n",
       "Symbols           KO       PSX  Portfolio  \n",
       "Date                                       \n",
       "2018-10-29       NaN       NaN        NaN  \n",
       "2018-10-30  1.025183  1.035932   1.010854  \n",
       "2018-10-31  1.030564  1.043646   1.013308  \n",
       "2018-11-01  1.027551  1.040398   1.006840  \n",
       "2018-11-02  1.033147  1.004974   1.007030  "
      ]
     },
     "execution_count": 16,
     "metadata": {},
     "output_type": "execute_result"
    }
   ],
   "source": [
    "# Calc. the cumulative returns\n",
    "stock_cum_returns=(1+stock_pct).cumprod()\n",
    "stock_cum_returns.head()"
   ]
  },
  {
   "cell_type": "code",
   "execution_count": 17,
   "metadata": {},
   "outputs": [
    {
     "data": {
      "text/plain": [
       "<matplotlib.legend.Legend at 0x7f7db84ad340>"
      ]
     },
     "execution_count": 17,
     "metadata": {},
     "output_type": "execute_result"
    },
    {
     "data": {
      "image/png": "[encoded data removed]",
      "text/plain": [
       "<Figure size 432x288 with 1 Axes>"
      ]
     },
     "metadata": {
      "needs_background": "light"
     },
     "output_type": "display_data"
    }
   ],
   "source": [
    "# Plot the cumulative port. returns only \n",
    "stock_port_return = stock_cum_returns['Portfolio']\n",
    "ax = stock_port_return.plot()\n",
    "plt.legend(['Portfolio'])"
   ]
  },
  {
   "cell_type": "markdown",
   "metadata": {},
   "source": [
    "<b>Summary:</b> \n",
    "\n",
    "- as shown on the graph, overall, our cumulative portfolio returns have been increasing in the past year, except with a significant drop around 2020 which was expected "
   ]
  },
  {
   "cell_type": "markdown",
   "metadata": {},
   "source": [
    "<!-- # Write calculated stock percentage changes to a csv file\n",
    "# stock_cum_returns.to_csv('stock_prices_cum', sep='\\t', header=True)-->"
   ]
  },
  {
   "cell_type": "markdown",
   "metadata": {},
   "source": [
    "<!-- # stock_cum_returns.loc[:,['Portfolio']]-->"
   ]
  },
  {
   "cell_type": "code",
   "execution_count": 18,
   "metadata": {},
   "outputs": [
    {
     "name": "stdout",
     "output_type": "stream",
     "text": [
      "Symbols      TGT   CVX    GE  TDOC   NEE   AXP    KO   PSX\n",
      "Date                                                      \n",
      "2018-10-29   NaN   NaN   NaN   NaN   NaN   NaN   NaN   NaN\n",
      "2018-10-30  1.97  1.75 -9.19  6.09  0.44  0.88  2.49  3.53\n",
      "2018-10-31 -2.53  0.72 -0.79  3.15 -0.61  0.63  0.52  0.74\n",
      "2018-11-01  0.71 -0.43 -5.29  0.26 -1.18  1.27 -0.29 -0.31\n",
      "2018-11-02  0.21  3.15 -3.07  4.21 -1.37 -0.32  0.54 -3.46\n",
      "...          ...   ...   ...   ...   ...   ...   ...   ...\n",
      "2022-01-18 -0.63  0.33 -0.26 -4.99 -2.37 -1.33 -0.80  0.09\n",
      "2022-01-19  1.73 -0.36 -2.23 -0.25  1.64 -2.92  0.16 -1.61\n",
      "2022-01-20 -0.95 -0.36 -2.38  0.90  1.11 -0.29 -0.41 -2.01\n",
      "2022-01-21 -2.04 -1.21 -2.00 -4.41 -1.10 -1.36 -0.50 -2.44\n",
      "2022-01-24  1.26  0.46  0.45  3.09 -0.73  0.11 -0.86 -0.64\n",
      "\n",
      "[815 rows x 8 columns]\n"
     ]
    }
   ],
   "source": [
    "# Calc. the log returns for all stocks\n",
    "log_pct = stocks_df.pct_change()\n",
    "log_returns = np.log(1+log_pct)\n",
    "print(log_returns.round(4)*100)"
   ]
  },
  {
   "cell_type": "markdown",
   "metadata": {},
   "source": [
    "Since we have a time-series data, it is probably better to calculate the log of stock return as later when we create the graph, it will look more smooth and allow us to easily identify trends"
   ]
  },
  {
   "cell_type": "code",
   "execution_count": 19,
   "metadata": {},
   "outputs": [
    {
     "name": "stdout",
     "output_type": "stream",
     "text": [
      "Symbols\n",
      "TGT     0.001271\n",
      "CVX     0.000385\n",
      "GE      0.000163\n",
      "TDOC    0.000213\n",
      "NEE     0.000874\n",
      "AXP     0.000611\n",
      "KO      0.000440\n",
      "PSX    -0.000037\n",
      "dtype: float64\n",
      "Portfolio's Mean Returns: 0.05%\n"
     ]
    }
   ],
   "source": [
    "# Calculate the mean returns for all stocks\n",
    "log_mean = log_returns.mean()\n",
    "print(log_mean)\n",
    "\n",
    "# Print the overall mean returns for our portfolio \n",
    "print(\"Portfolio's Mean Returns:\", str(np.round(log_mean.mean().mean(), 4) * 100) + '%')"
   ]
  },
  {
   "cell_type": "markdown",
   "metadata": {},
   "source": [
    "<b>Summary:</b> \n",
    "\n",
    "- after we take the log of our stock return, our portfolio mean return is 5% as compared to 8% "
   ]
  },
  {
   "cell_type": "code",
   "execution_count": 20,
   "metadata": {},
   "outputs": [
    {
     "data": {
      "text/html": [
       "<div>\n",
       "<style scoped>\n",
       "    .dataframe tbody tr th:only-of-type {\n",
       "        vertical-align: middle;\n",
       "    }\n",
       "\n",
       "    .dataframe tbody tr th {\n",
       "        vertical-align: top;\n",
       "    }\n",
       "\n",
       "    .dataframe thead th {\n",
       "        text-align: right;\n",
       "    }\n",
       "</style>\n",
       "<table border=\"1\" class=\"dataframe\">\n",
       "  <thead>\n",
       "    <tr style=\"text-align: right;\">\n",
       "      <th>Symbols</th>\n",
       "      <th>TGT</th>\n",
       "      <th>CVX</th>\n",
       "      <th>GE</th>\n",
       "      <th>TDOC</th>\n",
       "      <th>NEE</th>\n",
       "      <th>AXP</th>\n",
       "      <th>KO</th>\n",
       "      <th>PSX</th>\n",
       "    </tr>\n",
       "    <tr>\n",
       "      <th>Symbols</th>\n",
       "      <th></th>\n",
       "      <th></th>\n",
       "      <th></th>\n",
       "      <th></th>\n",
       "      <th></th>\n",
       "      <th></th>\n",
       "      <th></th>\n",
       "      <th></th>\n",
       "    </tr>\n",
       "  </thead>\n",
       "  <tbody>\n",
       "    <tr>\n",
       "      <th>TGT</th>\n",
       "      <td>0.102373</td>\n",
       "      <td>0.036712</td>\n",
       "      <td>0.035745</td>\n",
       "      <td>0.039574</td>\n",
       "      <td>0.031435</td>\n",
       "      <td>0.040400</td>\n",
       "      <td>0.023070</td>\n",
       "      <td>0.037837</td>\n",
       "    </tr>\n",
       "    <tr>\n",
       "      <th>CVX</th>\n",
       "      <td>0.036712</td>\n",
       "      <td>0.153183</td>\n",
       "      <td>0.107179</td>\n",
       "      <td>-0.008732</td>\n",
       "      <td>0.043302</td>\n",
       "      <td>0.117330</td>\n",
       "      <td>0.049485</td>\n",
       "      <td>0.137918</td>\n",
       "    </tr>\n",
       "    <tr>\n",
       "      <th>GE</th>\n",
       "      <td>0.035745</td>\n",
       "      <td>0.107179</td>\n",
       "      <td>0.228793</td>\n",
       "      <td>0.003691</td>\n",
       "      <td>0.037282</td>\n",
       "      <td>0.116200</td>\n",
       "      <td>0.049157</td>\n",
       "      <td>0.124126</td>\n",
       "    </tr>\n",
       "    <tr>\n",
       "      <th>TDOC</th>\n",
       "      <td>0.039574</td>\n",
       "      <td>-0.008732</td>\n",
       "      <td>0.003691</td>\n",
       "      <td>0.347703</td>\n",
       "      <td>0.015609</td>\n",
       "      <td>-0.010847</td>\n",
       "      <td>-0.009586</td>\n",
       "      <td>-0.007449</td>\n",
       "    </tr>\n",
       "    <tr>\n",
       "      <th>NEE</th>\n",
       "      <td>0.031435</td>\n",
       "      <td>0.043302</td>\n",
       "      <td>0.037282</td>\n",
       "      <td>0.015609</td>\n",
       "      <td>0.078320</td>\n",
       "      <td>0.050649</td>\n",
       "      <td>0.040197</td>\n",
       "      <td>0.037458</td>\n",
       "    </tr>\n",
       "    <tr>\n",
       "      <th>AXP</th>\n",
       "      <td>0.040400</td>\n",
       "      <td>0.117330</td>\n",
       "      <td>0.116200</td>\n",
       "      <td>-0.010847</td>\n",
       "      <td>0.050649</td>\n",
       "      <td>0.162446</td>\n",
       "      <td>0.056790</td>\n",
       "      <td>0.131966</td>\n",
       "    </tr>\n",
       "    <tr>\n",
       "      <th>KO</th>\n",
       "      <td>0.023070</td>\n",
       "      <td>0.049485</td>\n",
       "      <td>0.049157</td>\n",
       "      <td>-0.009586</td>\n",
       "      <td>0.040197</td>\n",
       "      <td>0.056790</td>\n",
       "      <td>0.055868</td>\n",
       "      <td>0.052832</td>\n",
       "    </tr>\n",
       "    <tr>\n",
       "      <th>PSX</th>\n",
       "      <td>0.037837</td>\n",
       "      <td>0.137918</td>\n",
       "      <td>0.124126</td>\n",
       "      <td>-0.007449</td>\n",
       "      <td>0.037458</td>\n",
       "      <td>0.131966</td>\n",
       "      <td>0.052832</td>\n",
       "      <td>0.212086</td>\n",
       "    </tr>\n",
       "  </tbody>\n",
       "</table>\n",
       "</div>"
      ],
      "text/plain": [
       "Symbols       TGT       CVX        GE      TDOC       NEE       AXP        KO  \\\n",
       "Symbols                                                                         \n",
       "TGT      0.102373  0.036712  0.035745  0.039574  0.031435  0.040400  0.023070   \n",
       "CVX      0.036712  0.153183  0.107179 -0.008732  0.043302  0.117330  0.049485   \n",
       "GE       0.035745  0.107179  0.228793  0.003691  0.037282  0.116200  0.049157   \n",
       "TDOC     0.039574 -0.008732  0.003691  0.347703  0.015609 -0.010847 -0.009586   \n",
       "NEE      0.031435  0.043302  0.037282  0.015609  0.078320  0.050649  0.040197   \n",
       "AXP      0.040400  0.117330  0.116200 -0.010847  0.050649  0.162446  0.056790   \n",
       "KO       0.023070  0.049485  0.049157 -0.009586  0.040197  0.056790  0.055868   \n",
       "PSX      0.037837  0.137918  0.124126 -0.007449  0.037458  0.131966  0.052832   \n",
       "\n",
       "Symbols       PSX  \n",
       "Symbols            \n",
       "TGT      0.037837  \n",
       "CVX      0.137918  \n",
       "GE       0.124126  \n",
       "TDOC    -0.007449  \n",
       "NEE      0.037458  \n",
       "AXP      0.131966  \n",
       "KO       0.052832  \n",
       "PSX      0.212086  "
      ]
     },
     "execution_count": 20,
     "metadata": {},
     "output_type": "execute_result"
    }
   ],
   "source": [
    "# Calc. the annual covariance matrix on log returns\n",
    "daily_cov_matrix = (log_returns.cov()) * 252\n",
    "daily_cov_matrix"
   ]
  },
  {
   "cell_type": "markdown",
   "metadata": {},
   "source": [
    "<b>Summary:</b> \n",
    "\n",
    "Covariance is a measure of the relationship between two assets' returns. \n",
    "- annualized our volatility by multiplying to 252, which is the number of trading days in a year \n",
    "- as we can see overall, these stocks' returns in our portfolio typically don't move in the same direction as others, which is a good sign \n",
    "\n",
    "Earlier, we calculate the correlation of our stocks, now, let's use covariance to find the standard deviation of our portfolio. "
   ]
  },
  {
   "cell_type": "code",
   "execution_count": 21,
   "metadata": {},
   "outputs": [
    {
     "name": "stdout",
     "output_type": "stream",
     "text": [
      "6.41%\n",
      "25.31%\n"
     ]
    }
   ],
   "source": [
    "# Calculate the portfolio variance\n",
    "port_var = np.dot(port_weights.T, np.dot(daily_cov_matrix, port_weights))\n",
    "print(str(np.round(port_var, 4) * 100) + '%')\n",
    "\n",
    "# Calc. standard deviation( risk of the portfolio) \n",
    "port_std = np.sqrt(np.dot(port_weights.T, np.dot(daily_cov_matrix, port_weights)))\n",
    "print(str(np.round(port_std, 4) * 100) + '%')"
   ]
  },
  {
   "cell_type": "markdown",
   "metadata": {},
   "source": [
    "<b>Summary</b>:\n",
    "\n",
    "- since standard deviation measures how data is dispersed relative to the mean, a 25.31% of std indicate our portfolio contains much risker assets as compared to a lower std\n",
    "- maybe later, we can reduce our portfolio risk by finding the optimal portfolio weights as portfolio weights were used to calculate both portfolio variance & standard deviation"
   ]
  },
  {
   "cell_type": "markdown",
   "metadata": {},
   "source": [
    "## III. Calculate the Annualized Returns & Sharpe Ratio For All Stocks & SP500 Indexes\n",
    "\n",
    "### A. Examine Annualized Returns & Sharpe Ratio for Each Stock\n",
    "\n",
    "#### Annualized Returns for Each Stock"
   ]
  },
  {
   "cell_type": "code",
   "execution_count": 22,
   "metadata": {},
   "outputs": [
    {
     "name": "stdout",
     "output_type": "stream",
     "text": [
      "39\n"
     ]
    }
   ],
   "source": [
    "# Calc. the number of months between today's date and the start date(so the months will be updated)\n",
    "start_date = datetime.datetime(2018, 10, 29)\n",
    "end_date = datetime.date.today()\n",
    "num_months = (end_date.year - start_date.year) * 12 + (end_date.month - start_date.month)\n",
    "print(num_months)"
   ]
  },
  {
   "cell_type": "code",
   "execution_count": 23,
   "metadata": {},
   "outputs": [
    {
     "data": {
      "text/plain": [
       "Symbols\n",
       "TGT     1.814941\n",
       "CVX     0.367746\n",
       "GE      0.142206\n",
       "TDOC    0.189339\n",
       "NEE     1.036121\n",
       "AXP     0.645016\n",
       "KO      0.430958\n",
       "PSX    -0.029826\n",
       "dtype: float64"
      ]
     },
     "execution_count": 23,
     "metadata": {},
     "output_type": "execute_result"
    }
   ],
   "source": [
    "# Calc. the total rate of return for all stocks from start to the end\n",
    "total_return = (stocks_df.iloc[-1] - stocks_df.iloc[0]) / stocks_df.iloc[0]\n",
    "total_return"
   ]
  },
  {
   "cell_type": "code",
   "execution_count": 24,
   "metadata": {},
   "outputs": [
    {
     "data": {
      "text/plain": [
       "Symbols\n",
       "TGT     0.374986\n",
       "CVX     0.101153\n",
       "GE      0.041760\n",
       "TDOC    0.054802\n",
       "NEE     0.244562\n",
       "AXP     0.165504\n",
       "KO      0.116568\n",
       "PSX    -0.009274\n",
       "dtype: float64"
      ]
     },
     "execution_count": 24,
     "metadata": {},
     "output_type": "execute_result"
    }
   ],
   "source": [
    "# Calc. the annualized total return over months \n",
    "ann_return = ((1 + total_return)**(12/num_months))-1\n",
    "ann_return"
   ]
  },
  {
   "cell_type": "markdown",
   "metadata": {},
   "source": [
    "<b>Summary:</b> \n",
    "\n",
    "The annualized rate of return is the geometric average of money earned in a portfolio in a given year. \n",
    "- TGT has the highest annualized total return in one year \n",
    "- PSX has the lowest annualized total return in one year, its annualized total return is negative 0.01% "
   ]
  },
  {
   "cell_type": "markdown",
   "metadata": {},
   "source": [
    "#### Sharpe Ratio for Each Stock"
   ]
  },
  {
   "cell_type": "code",
   "execution_count": 25,
   "metadata": {},
   "outputs": [],
   "source": [
    "API_key = '29d5c4811e76f2deb84b5c62f4b13d38'"
   ]
  },
  {
   "cell_type": "code",
   "execution_count": 26,
   "metadata": {},
   "outputs": [],
   "source": [
    "# Retrieve the risk free rate via API so it can be updated automatically\n",
    "start = '2020/12/21'\n",
    "today = datetime.date.today()  # grab today's date\n",
    "treasury = web.DataReader(['TB3MS'], 'fred', start='2020/12/21', end= today)\n",
    "risk_free = float(treasury.iloc[-1])"
   ]
  },
  {
   "cell_type": "code",
   "execution_count": 27,
   "metadata": {},
   "outputs": [
    {
     "data": {
      "text/plain": [
       "0.06"
      ]
     },
     "execution_count": 27,
     "metadata": {},
     "output_type": "execute_result"
    }
   ],
   "source": [
    "# print the risk_free\n",
    "risk_free"
   ]
  },
  {
   "cell_type": "markdown",
   "metadata": {},
   "source": [
    "According to investopedia.com, the 3-month treasury yield is normally used as a proxy for the risk free rate in the sharpe ratio formula. "
   ]
  },
  {
   "cell_type": "code",
   "execution_count": 28,
   "metadata": {},
   "outputs": [
    {
     "data": {
      "text/plain": [
       "Symbols\n",
       "TGT     0.322949\n",
       "CVX     0.385999\n",
       "GE      0.476754\n",
       "TDOC    0.586019\n",
       "NEE     0.278461\n",
       "AXP     0.407021\n",
       "KO      0.234033\n",
       "PSX     0.459760\n",
       "dtype: float64"
      ]
     },
     "execution_count": 28,
     "metadata": {},
     "output_type": "execute_result"
    }
   ],
   "source": [
    "# Calc. the ann. volatility from the std \n",
    "stocks_change = stocks_df.pct_change()\n",
    "ann_stdv_stock = stocks_change.std() * np.sqrt(250)\n",
    "ann_stdv_stock"
   ]
  },
  {
   "cell_type": "code",
   "execution_count": 29,
   "metadata": {},
   "outputs": [
    {
     "data": {
      "text/plain": [
       "Symbols\n",
       "TGT     0.975343\n",
       "CVX     0.106615\n",
       "GE     -0.038260\n",
       "TDOC   -0.008870\n",
       "NEE     0.662793\n",
       "AXP     0.259211\n",
       "KO      0.241710\n",
       "PSX    -0.150673\n",
       "dtype: float64"
      ]
     },
     "execution_count": 29,
     "metadata": {},
     "output_type": "execute_result"
    }
   ],
   "source": [
    "# Calc. the annualized Sharpe Ratio for each stock \n",
    "sharpe_ratio = ((ann_return - risk_free) / ann_stdv_stock)\n",
    "sharpe_ratio"
   ]
  },
  {
   "cell_type": "code",
   "execution_count": 30,
   "metadata": {},
   "outputs": [
    {
     "data": {
      "text/plain": [
       "<AxesSubplot:title={'center':'Annualized Sharpe Ratio'}, xlabel='Symbols'>"
      ]
     },
     "execution_count": 30,
     "metadata": {},
     "output_type": "execute_result"
    },
    {
     "data": {
      "image/png": "[encoded data removed]",
      "text/plain": [
       "<Figure size 432x288 with 1 Axes>"
      ]
     },
     "metadata": {
      "needs_background": "light"
     },
     "output_type": "display_data"
    }
   ],
   "source": [
    "# Plot the sharpe ratio for each stock\n",
    "sharpe_ratio.plot(kind=\"bar\", title=\"Annualized Sharpe Ratio\")"
   ]
  },
  {
   "cell_type": "markdown",
   "metadata": {},
   "source": [
    "<b>Summary:</b> \n",
    "\n",
    "Let's use one of the most common risk-adjusted return ratios - Sharpe Ratio, which describes how much excess return we would receive for the volatility of holding our relatively risky portfolio. \n",
    "- Sharpe ratio > 1 is generally considered \"good\", so in our portfolio, TGT's Sharpe ratio has the closest Sharpe ratio close to one, which indicates it offers more excess returns relative to its annualized volatility of 0.32\n",
    "- GE, TDOC, PSX all have negative Sharpe ratio, which could indicate that the risk-free rate is greater than the stock's return or the portfolio return is negative \n",
    "- with these findings, we can allocate less weight to these three stocks "
   ]
  },
  {
   "cell_type": "markdown",
   "metadata": {},
   "source": [
    "### B. Examine Annualized Returns & Sharpe Ratio for ETF\n",
    "\n",
    "#### Annualized Returns for IVV"
   ]
  },
  {
   "cell_type": "code",
   "execution_count": 31,
   "metadata": {},
   "outputs": [],
   "source": [
    "# Retrieve the daily return of IVV\n",
    "tickers = ['IVV']\n",
    "etf = pdr.get_data_yahoo(tickers,\n",
    "                           '2018/10/29',\n",
    "                             today)\n",
    "# SP500_df.set_index('Date', inplace=True, drop=True)"
   ]
  },
  {
   "cell_type": "markdown",
   "metadata": {},
   "source": [
    "NOTE: iShares Core S&P 500 ETF's holdings contain a majority of our stocks, except TDOC( Teladoc Health). "
   ]
  },
  {
   "cell_type": "code",
   "execution_count": 32,
   "metadata": {},
   "outputs": [
    {
     "data": {
      "text/html": [
       "<div>\n",
       "<style scoped>\n",
       "    .dataframe tbody tr th:only-of-type {\n",
       "        vertical-align: middle;\n",
       "    }\n",
       "\n",
       "    .dataframe tbody tr th {\n",
       "        vertical-align: top;\n",
       "    }\n",
       "\n",
       "    .dataframe thead th {\n",
       "        text-align: right;\n",
       "    }\n",
       "</style>\n",
       "<table border=\"1\" class=\"dataframe\">\n",
       "  <thead>\n",
       "    <tr style=\"text-align: right;\">\n",
       "      <th>Symbols</th>\n",
       "      <th>IVV</th>\n",
       "    </tr>\n",
       "    <tr>\n",
       "      <th>Date</th>\n",
       "      <th></th>\n",
       "    </tr>\n",
       "  </thead>\n",
       "  <tbody>\n",
       "    <tr>\n",
       "      <th>2018-10-29</th>\n",
       "      <td>249.948532</td>\n",
       "    </tr>\n",
       "    <tr>\n",
       "      <th>2018-10-30</th>\n",
       "      <td>253.947968</td>\n",
       "    </tr>\n",
       "    <tr>\n",
       "      <th>2018-10-31</th>\n",
       "      <td>256.676941</td>\n",
       "    </tr>\n",
       "    <tr>\n",
       "      <th>2018-11-01</th>\n",
       "      <td>259.180084</td>\n",
       "    </tr>\n",
       "    <tr>\n",
       "      <th>2018-11-02</th>\n",
       "      <td>257.740387</td>\n",
       "    </tr>\n",
       "  </tbody>\n",
       "</table>\n",
       "</div>"
      ],
      "text/plain": [
       "Symbols            IVV\n",
       "Date                  \n",
       "2018-10-29  249.948532\n",
       "2018-10-30  253.947968\n",
       "2018-10-31  256.676941\n",
       "2018-11-01  259.180084\n",
       "2018-11-02  257.740387"
      ]
     },
     "execution_count": 32,
     "metadata": {},
     "output_type": "execute_result"
    }
   ],
   "source": [
    "# Retrieve only the Adj. Close col\n",
    "etf_df = etf['Adj Close']\n",
    "etf_df.head()"
   ]
  },
  {
   "cell_type": "code",
   "execution_count": 33,
   "metadata": {},
   "outputs": [
    {
     "data": {
      "text/plain": [
       "Symbols\n",
       "IVV    0\n",
       "dtype: int64"
      ]
     },
     "execution_count": 33,
     "metadata": {},
     "output_type": "execute_result"
    }
   ],
   "source": [
    "# Check to see if there are any missing values in the stocks_df\n",
    "etf_df.isnull().sum()"
   ]
  },
  {
   "cell_type": "code",
   "execution_count": 34,
   "metadata": {},
   "outputs": [
    {
     "data": {
      "text/html": [
       "<div>\n",
       "<style scoped>\n",
       "    .dataframe tbody tr th:only-of-type {\n",
       "        vertical-align: middle;\n",
       "    }\n",
       "\n",
       "    .dataframe tbody tr th {\n",
       "        vertical-align: top;\n",
       "    }\n",
       "\n",
       "    .dataframe thead th {\n",
       "        text-align: right;\n",
       "    }\n",
       "</style>\n",
       "<table border=\"1\" class=\"dataframe\">\n",
       "  <thead>\n",
       "    <tr style=\"text-align: right;\">\n",
       "      <th>Symbols</th>\n",
       "      <th>IVV</th>\n",
       "    </tr>\n",
       "  </thead>\n",
       "  <tbody>\n",
       "    <tr>\n",
       "      <th>count</th>\n",
       "      <td>815.000000</td>\n",
       "    </tr>\n",
       "    <tr>\n",
       "      <th>mean</th>\n",
       "      <td>337.402384</td>\n",
       "    </tr>\n",
       "    <tr>\n",
       "      <th>std</th>\n",
       "      <td>70.215893</td>\n",
       "    </tr>\n",
       "    <tr>\n",
       "      <th>min</th>\n",
       "      <td>217.457001</td>\n",
       "    </tr>\n",
       "    <tr>\n",
       "      <th>25%</th>\n",
       "      <td>279.692261</td>\n",
       "    </tr>\n",
       "    <tr>\n",
       "      <th>50%</th>\n",
       "      <td>316.665375</td>\n",
       "    </tr>\n",
       "    <tr>\n",
       "      <th>75%</th>\n",
       "      <td>403.289551</td>\n",
       "    </tr>\n",
       "    <tr>\n",
       "      <th>max</th>\n",
       "      <td>479.839996</td>\n",
       "    </tr>\n",
       "  </tbody>\n",
       "</table>\n",
       "</div>"
      ],
      "text/plain": [
       "Symbols         IVV\n",
       "count    815.000000\n",
       "mean     337.402384\n",
       "std       70.215893\n",
       "min      217.457001\n",
       "25%      279.692261\n",
       "50%      316.665375\n",
       "75%      403.289551\n",
       "max      479.839996"
      ]
     },
     "execution_count": 34,
     "metadata": {},
     "output_type": "execute_result"
    }
   ],
   "source": [
    "# Summarize the IVV's index returns\n",
    "etf_df.describe()"
   ]
  },
  {
   "cell_type": "code",
   "execution_count": 35,
   "metadata": {},
   "outputs": [
    {
     "name": "stdout",
     "output_type": "stream",
     "text": [
      "Symbols\n",
      "IVV    76.74\n",
      "dtype: float64%\n"
     ]
    }
   ],
   "source": [
    "# Calculate the total return \n",
    "total_etf_returns = (etf_df.iloc[-1] - etf_df.iloc[0]) / etf_df.iloc[0]\n",
    "print(str(np.round(total_etf_returns, 4) * 100) + '%')"
   ]
  },
  {
   "cell_type": "code",
   "execution_count": 36,
   "metadata": {},
   "outputs": [
    {
     "name": "stdout",
     "output_type": "stream",
     "text": [
      "Symbols\n",
      "IVV    19.15\n",
      "dtype: float64%\n"
     ]
    }
   ],
   "source": [
    "# Calc. the annualized total return over months \n",
    "ann_etf_return = ((1 + total_etf_returns)**(12/num_months))-1\n",
    "print(str(np.round(ann_etf_return, 4) * 100) + '%')"
   ]
  },
  {
   "cell_type": "markdown",
   "metadata": {},
   "source": [
    "Let's see after we arrived at the optimal portfolio weights, if our portfolio's annualized total return could be close to 19%. "
   ]
  },
  {
   "cell_type": "markdown",
   "metadata": {},
   "source": [
    "#### Sharpe Ratio for IVV"
   ]
  },
  {
   "cell_type": "code",
   "execution_count": 37,
   "metadata": {},
   "outputs": [],
   "source": [
    "# Calc. the percentage change \n",
    "etf_pct = etf_df.pct_change()"
   ]
  },
  {
   "cell_type": "code",
   "execution_count": 38,
   "metadata": {},
   "outputs": [
    {
     "name": "stdout",
     "output_type": "stream",
     "text": [
      "Symbols\n",
      "IVV    22.38\n",
      "dtype: float64%\n"
     ]
    }
   ],
   "source": [
    "# Calc. the ann. volatility from the std\n",
    "ann_vol_etf = etf_pct.std() * np.sqrt(250)\n",
    "print(str(np.round(ann_vol_etf, 4) * 100) + '%')"
   ]
  },
  {
   "cell_type": "code",
   "execution_count": 39,
   "metadata": {},
   "outputs": [
    {
     "data": {
      "text/plain": [
       "Symbols\n",
       "IVV    0.587785\n",
       "dtype: float64"
      ]
     },
     "execution_count": 39,
     "metadata": {},
     "output_type": "execute_result"
    }
   ],
   "source": [
    "# Calc. the Sharpe Ratio \n",
    "etf_sharpe = ((ann_etf_return - risk_free)/ann_vol_etf)\n",
    "etf_sharpe"
   ]
  },
  {
   "cell_type": "markdown",
   "metadata": {},
   "source": [
    "The sharpe ratio for IVV aren't really high, not even close to 1. "
   ]
  },
  {
   "cell_type": "code",
   "execution_count": 40,
   "metadata": {},
   "outputs": [
    {
     "data": {
      "text/plain": [
       "<AxesSubplot:title={'center':'Annualized Sharpe Ratio - IVV'}, xlabel='Symbols'>"
      ]
     },
     "execution_count": 40,
     "metadata": {},
     "output_type": "execute_result"
    },
    {
     "data": {
      "image/png": "[encoded data removed]",
      "text/plain": [
       "<Figure size 432x288 with 1 Axes>"
      ]
     },
     "metadata": {
      "needs_background": "light"
     },
     "output_type": "display_data"
    }
   ],
   "source": [
    "# Plot the sharpe ratio for IVV\n",
    "etf_sharpe.plot(kind=\"bar\", title=\"Annualized Sharpe Ratio - IVV\")"
   ]
  },
  {
   "cell_type": "markdown",
   "metadata": {},
   "source": [
    "## IV. Examine Skewness & Kurtosis Of Selected Stocks and ETFs\n",
    "\n",
    "### A. Examine Skewness & Kurtosis of Individual Stocks Only"
   ]
  },
  {
   "cell_type": "code",
   "execution_count": 41,
   "metadata": {},
   "outputs": [
    {
     "data": {
      "image/png": "[encoded data removed]",
      "text/plain": [
       "<Figure size 432x288 with 1 Axes>"
      ]
     },
     "metadata": {
      "needs_background": "light"
     },
     "output_type": "display_data"
    },
    {
     "data": {
      "image/png": "[encoded data removed]",
      "text/plain": [
       "<Figure size 432x288 with 9 Axes>"
      ]
     },
     "metadata": {
      "needs_background": "light"
     },
     "output_type": "display_data"
    }
   ],
   "source": [
    "# Print the histogram of the portfolio\n",
    "stocks_df.pct_change().plot.hist(title='Stocks Distribution')\n",
    "stocks_df.pct_change().hist()\n",
    "plt.show()"
   ]
  },
  {
   "cell_type": "code",
   "execution_count": 42,
   "metadata": {},
   "outputs": [
    {
     "name": "stdout",
     "output_type": "stream",
     "text": [
      "Stocks'Skewness: Symbols\n",
      "TGT     1.536351\n",
      "CVX    -0.269953\n",
      "GE      0.182222\n",
      "TDOC    0.029288\n",
      "NEE     0.026938\n",
      "AXP     1.461060\n",
      "KO     -0.726874\n",
      "PSX     0.419052\n",
      "dtype: float64\n"
     ]
    }
   ],
   "source": [
    "# # Print the skewness of each stock's pct changes\n",
    "print(\"Stocks'Skewness:\", stocks_df.pct_change().skew())"
   ]
  },
  {
   "cell_type": "markdown",
   "metadata": {},
   "source": [
    "<b>Interesting Findings:</b> \n",
    "\n",
    "Skewness is a measure of symmetry or it measures how distributed the data is from the left and right of the center point. \n",
    "\n",
    "Based on the Skewness' Rule of Thumb: \n",
    "- TGT and AXP have a highly skewed distribution, which indicates that the distribution has a bump towards the left of the center point and is not good for investing as a large proportion of returns are going to be below the mean \n",
    "- KO has a moderately skewed distribution\n",
    "- GE, TDOC, NEE,  CVX, and PSX are  approximately symmetric distribution \n"
   ]
  },
  {
   "cell_type": "code",
   "execution_count": 43,
   "metadata": {},
   "outputs": [
    {
     "name": "stdout",
     "output_type": "stream",
     "text": [
      "Stocks'Kurtosis: Symbols\n",
      "TGT     20.206744\n",
      "CVX     23.319091\n",
      "GE       3.665564\n",
      "TDOC     3.071349\n",
      "NEE     13.396018\n",
      "AXP     19.501759\n",
      "KO       8.394567\n",
      "PSX      8.626636\n",
      "dtype: float64\n"
     ]
    }
   ],
   "source": [
    "# Print the kurtosis of each stock's pct changes\n",
    "print(\"Stocks'Kurtosis:\", stocks_df.pct_change().kurtosis())"
   ]
  },
  {
   "cell_type": "markdown",
   "metadata": {},
   "source": [
    "<b>Interesting Findings:</b> \n",
    "\n",
    "Kurtosis is a measure of whether the data is heavy-tailed or light-tailed compared to a normal distribution. \n",
    "\n",
    "Kurtosis' Rule of Thumb: \n",
    "- all of the 8 stocks have a kurtosis above 3(known as leptokurtic),  which implies that the stocks have slightly fatter tails and is not desirable for us"
   ]
  },
  {
   "cell_type": "code",
   "execution_count": 44,
   "metadata": {},
   "outputs": [
    {
     "name": "stdout",
     "output_type": "stream",
     "text": [
      "Stocks'Kurtosis: -1.3775944912219533\n"
     ]
    }
   ],
   "source": [
    "# Print the kurtosis of cumulative portfolio's pct changes\n",
    "print(\"Stocks'Kurtosis:\", stock_port_return.kurtosis())"
   ]
  },
  {
   "cell_type": "code",
   "execution_count": 45,
   "metadata": {},
   "outputs": [
    {
     "data": {
      "image/png": "[encoded data removed]",
      "text/plain": [
       "<Figure size 432x288 with 1 Axes>"
      ]
     },
     "metadata": {
      "needs_background": "light"
     },
     "output_type": "display_data"
    }
   ],
   "source": [
    "# Print the histogram of the portfolio\n",
    "stock_port_return.hist()\n",
    "plt.show()"
   ]
  },
  {
   "cell_type": "markdown",
   "metadata": {},
   "source": [
    "### B. Examine Skewness & Kurtosis of ETF Only"
   ]
  },
  {
   "cell_type": "code",
   "execution_count": 46,
   "metadata": {},
   "outputs": [
    {
     "data": {
      "image/png": "[encoded data removed]",
      "text/plain": [
       "<Figure size 432x288 with 1 Axes>"
      ]
     },
     "metadata": {
      "needs_background": "light"
     },
     "output_type": "display_data"
    }
   ],
   "source": [
    "# Create a histogram of the S&P500 returns and show the plot\n",
    "etf_pct.plot.hist(title='IVV Distribution')\n",
    "plt.show()"
   ]
  },
  {
   "cell_type": "code",
   "execution_count": 47,
   "metadata": {},
   "outputs": [
    {
     "name": "stdout",
     "output_type": "stream",
     "text": [
      "Indexes'skewness: Symbols\n",
      "IVV   -0.631392\n",
      "dtype: float64\n"
     ]
    }
   ],
   "source": [
    "# Print the skewness of the indexes\n",
    "print(\"Indexes'skewness:\", etf_pct.skew())"
   ]
  },
  {
   "cell_type": "code",
   "execution_count": 48,
   "metadata": {},
   "outputs": [
    {
     "name": "stdout",
     "output_type": "stream",
     "text": [
      "Indexes'kurtosis: Symbols\n",
      "IVV    15.694062\n",
      "dtype: float64\n"
     ]
    }
   ],
   "source": [
    "# Print the kurtosis of the indexes\n",
    "print(\"Indexes'kurtosis:\", etf_pct.kurtosis())"
   ]
  },
  {
   "cell_type": "markdown",
   "metadata": {},
   "source": [
    "<b>Interesting Findings:</b> \n",
    "- according to the skewness' rule of thumb, having a -0.63 indicates that IVV has a moderately skewed distribution \n",
    "- compared to some of our stocks, IVV also has a slightly fatter tail, and this is undesirable for interested investors"
   ]
  },
  {
   "cell_type": "markdown",
   "metadata": {},
   "source": [
    "### V. Calculate the Sortino Ratio for our Portfolio"
   ]
  },
  {
   "cell_type": "code",
   "execution_count": 49,
   "metadata": {},
   "outputs": [],
   "source": [
    "# Define the target return as 0.10\n",
    "target = 0.10"
   ]
  },
  {
   "cell_type": "markdown",
   "metadata": {},
   "source": [
    "Let's make our target return as 10% as the stocks in our portfolio are considered long-term investments, so a 10% target return should be a good ROI."
   ]
  },
  {
   "cell_type": "code",
   "execution_count": 50,
   "metadata": {},
   "outputs": [
    {
     "data": {
      "text/plain": [
       "Series([], Name: Portfolio, dtype: float64)"
      ]
     },
     "execution_count": 50,
     "metadata": {},
     "output_type": "execute_result"
    }
   ],
   "source": [
    "# Create a downside return col. with neg. return only\n",
    "port_return_series = pd.Series(stock_port_return)  # tells python it is a series data structure, not df\n",
    "downside_returns = port_return_series.loc[port_return_series < target]\n",
    "downside_returns"
   ]
  },
  {
   "cell_type": "code",
   "execution_count": 51,
   "metadata": {},
   "outputs": [],
   "source": [
    "# # Calc. the expected return and std dev of the downside\n",
    "expected_return = pd.Series(stock_port_return).mean()\n",
    "down_stdev = pd.Series(stock_port_return).std()"
   ]
  },
  {
   "cell_type": "code",
   "execution_count": 52,
   "metadata": {},
   "outputs": [],
   "source": [
    "# Calc. the Sortino Ratio\n",
    "sortino_ratio = (expected_return - risk_free) / (down_stdev)"
   ]
  },
  {
   "cell_type": "code",
   "execution_count": 53,
   "metadata": {},
   "outputs": [
    {
     "name": "stdout",
     "output_type": "stream",
     "text": [
      "Expected Return: 139.02329968556933\n",
      "Downside Risk: 31.7601892087009\n",
      "Sortino Ratio: 4.188366096040975\n"
     ]
    }
   ],
   "source": [
    "# Print the results\n",
    "print(\"Expected Return:\", expected_return*100)\n",
    "print(\"Downside Risk:\", down_stdev*100)\n",
    "print(\"Sortino Ratio:\", sortino_ratio)"
   ]
  },
  {
   "cell_type": "markdown",
   "metadata": {},
   "source": [
    "<b>Summary:</b> \n",
    "\n",
    "Sortino Ratio is a variation of the Sharpe Ratio that only factors in downside risk as compared to Sharpe Ratio, which penalizes both upside and downside risk.\n",
    "- as a rule of thumb, a Sortino ratio of 4.18 for our portfolio is considered ideal, which indicates our portfolio is operating efficiently  for the amount of risk we take in"
   ]
  },
  {
   "cell_type": "markdown",
   "metadata": {},
   "source": [
    "## VI. Investigate The Fama French 5-Factor Model"
   ]
  },
  {
   "cell_type": "code",
   "execution_count": 54,
   "metadata": {},
   "outputs": [
    {
     "name": "stdout",
     "output_type": "stream",
     "text": [
      "<class 'pandas.core.frame.DataFrame'>\n",
      "DatetimeIndex: 778 entries, 2018-10-29 to 2021-11-30\n",
      "Data columns (total 6 columns):\n",
      " #   Column  Non-Null Count  Dtype  \n",
      "---  ------  --------------  -----  \n",
      " 0   Mkt-RF  778 non-null    float64\n",
      " 1   SMB     778 non-null    float64\n",
      " 2   HML     778 non-null    float64\n",
      " 3   RMW     778 non-null    float64\n",
      " 4   CMA     778 non-null    float64\n",
      " 5   RF      778 non-null    float64\n",
      "dtypes: float64(6)\n",
      "memory usage: 42.5 KB\n"
     ]
    }
   ],
   "source": [
    "# Read the fama french 5 factors file\n",
    "ff5_factors = pd.read_csv('Fama_French_5_Factors.CSV', index_col=0, parse_dates=[0])\n",
    "ff5_factors.info()"
   ]
  },
  {
   "cell_type": "code",
   "execution_count": 55,
   "metadata": {},
   "outputs": [
    {
     "name": "stdout",
     "output_type": "stream",
     "text": [
      "            Mkt-RF  SMB   HML   RMW   CMA     RF\n",
      "Date                                            \n",
      "2018-10-29   -0.77 -0.1  1.61 -0.01  0.97  0.008\n",
      "            Mkt-RF   SMB   HML   RMW  CMA   RF\n",
      "Date                                          \n",
      "2021-11-30   -1.95  0.16 -1.12 -0.16  0.4  0.0\n"
     ]
    }
   ],
   "source": [
    "# Print the first row and last row of fama-french 5 dataset \n",
    "print(ff5_factors.head(n=1))\n",
    "print(ff5_factors.tail(n=1))"
   ]
  },
  {
   "cell_type": "code",
   "execution_count": 56,
   "metadata": {},
   "outputs": [
    {
     "data": {
      "text/plain": [
       "datetime.date(2021, 11, 30)"
      ]
     },
     "execution_count": 56,
     "metadata": {},
     "output_type": "execute_result"
    }
   ],
   "source": [
    "# Grab the last date of fama-french 5 factors dataset\n",
    "ff5_date = ff5_factors.index[ff5_factors.shape[0] - 1].date()\n",
    "ff5_date"
   ]
  },
  {
   "cell_type": "markdown",
   "metadata": {},
   "source": [
    "Since the last date of our fama-french 5 factors data set ends on 11/30/21 and it is different from our stocks data set, we need to make sure that as we are comparing to the stocks data set, it also needs to end on 11/30/21. "
   ]
  },
  {
   "cell_type": "code",
   "execution_count": 57,
   "metadata": {},
   "outputs": [
    {
     "name": "stdout",
     "output_type": "stream",
     "text": [
      "Symbols           TGT        CVX         GE       TDOC        NEE        AXP  \\\n",
      "Date                                                                           \n",
      "2018-10-29  78.157944  93.219093  84.687035  63.220001  40.272663  96.606934   \n",
      "\n",
      "Symbols            KO        PSX  \n",
      "Date                              \n",
      "2018-10-29  41.881031  85.453758  \n",
      "Symbols            TGT         CVX         GE    TDOC        NEE         AXP  \\\n",
      "Date                                                                           \n",
      "2021-11-30  243.839996  112.870003  94.906898  101.25  86.779999  151.918716   \n",
      "\n",
      "Symbols            KO        PSX  \n",
      "Date                              \n",
      "2021-11-30  52.450001  69.169998  \n"
     ]
    }
   ],
   "source": [
    "# Grab our stocks_df data only upto our fama-french 5 factors dataset \n",
    "# price_data = stocks_df.iloc[:ff5_date]\n",
    "new_stocks = stocks_df.loc['2018-10-29':'2021-11-30']\n",
    "\n",
    "# Print the first row and last row of new_stock\n",
    "print(new_stocks.head(n=1))\n",
    "print(new_stocks.tail(n=1))"
   ]
  },
  {
   "cell_type": "code",
   "execution_count": 58,
   "metadata": {},
   "outputs": [
    {
     "data": {
      "text/plain": [
       "pandas.core.frame.DataFrame"
      ]
     },
     "execution_count": 58,
     "metadata": {},
     "output_type": "execute_result"
    }
   ],
   "source": [
    "# Calculate the percentage change for our newly created stocks df\n",
    "new_pct = new_stocks.pct_change()\n",
    "type(new_pct)"
   ]
  },
  {
   "cell_type": "code",
   "execution_count": 72,
   "metadata": {},
   "outputs": [
    {
     "data": {
      "text/plain": [
       "Date\n",
       "2018-10-29         NaN\n",
       "2018-10-30    0.010854\n",
       "2018-10-31    0.002427\n",
       "2018-11-01   -0.006383\n",
       "2018-11-02    0.000189\n",
       "Name: Portfolio, dtype: float64"
      ]
     },
     "execution_count": 72,
     "metadata": {},
     "output_type": "execute_result"
    }
   ],
   "source": [
    "# Assign a name to the series and named it as Portfolio \n",
    "new_stock_port = new_stock_port.rename('Portfolio')\n",
    "new_stock_port.head()"
   ]
  },
  {
   "cell_type": "code",
   "execution_count": 73,
   "metadata": {},
   "outputs": [
    {
     "name": "stdout",
     "output_type": "stream",
     "text": [
      "            Mkt-RF   SMB   HML   RMW   CMA   RF  Portfolio  Port_Excess\n",
      "Date                                                                   \n",
      "2021-11-23   -0.03 -0.17  1.74  0.23  1.16  0.0   0.003217     0.003217\n",
      "2021-11-24    0.30 -0.15 -0.86 -0.52 -0.20  0.0   0.004311     0.004311\n",
      "2021-11-26   -2.22 -1.30 -0.93  0.26 -0.59  0.0  -0.029100    -0.029100\n",
      "2021-11-29    1.11 -1.31 -0.87  0.40 -0.33  0.0   0.006389     0.006389\n",
      "2021-11-30   -1.95  0.16 -1.12 -0.16  0.40  0.0  -0.027452    -0.027452\n"
     ]
    },
    {
     "data": {
      "text/html": [
       "<table class=\"simpletable\">\n",
       "<caption>OLS Regression Results</caption>\n",
       "<tr>\n",
       "  <th>Dep. Variable:</th>       <td>Port_Excess</td>   <th>  R-squared:         </th> <td>   0.869</td>\n",
       "</tr>\n",
       "<tr>\n",
       "  <th>Model:</th>                   <td>OLS</td>       <th>  Adj. R-squared:    </th> <td>   0.868</td>\n",
       "</tr>\n",
       "<tr>\n",
       "  <th>Method:</th>             <td>Least Squares</td>  <th>  F-statistic:       </th> <td>   850.7</td>\n",
       "</tr>\n",
       "<tr>\n",
       "  <th>Date:</th>             <td>Mon, 24 Jan 2022</td> <th>  Prob (F-statistic):</th>  <td>  0.00</td> \n",
       "</tr>\n",
       "<tr>\n",
       "  <th>Time:</th>                 <td>21:03:22</td>     <th>  Log-Likelihood:    </th> <td>  2868.1</td>\n",
       "</tr>\n",
       "<tr>\n",
       "  <th>No. Observations:</th>      <td>   777</td>      <th>  AIC:               </th> <td>  -5722.</td>\n",
       "</tr>\n",
       "<tr>\n",
       "  <th>Df Residuals:</th>          <td>   770</td>      <th>  BIC:               </th> <td>  -5690.</td>\n",
       "</tr>\n",
       "<tr>\n",
       "  <th>Df Model:</th>              <td>     6</td>      <th>                     </th>     <td> </td>   \n",
       "</tr>\n",
       "<tr>\n",
       "  <th>Covariance Type:</th>      <td>nonrobust</td>    <th>                     </th>     <td> </td>   \n",
       "</tr>\n",
       "</table>\n",
       "<table class=\"simpletable\">\n",
       "<tr>\n",
       "       <td></td>         <th>coef</th>     <th>std err</th>      <th>t</th>      <th>P>|t|</th>  <th>[0.025</th>    <th>0.975]</th>  \n",
       "</tr>\n",
       "<tr>\n",
       "  <th>Intercept</th>  <td>   -0.0002</td> <td>    0.000</td> <td>   -0.550</td> <td> 0.583</td> <td>   -0.001</td> <td>    0.000</td>\n",
       "</tr>\n",
       "<tr>\n",
       "  <th>Mkt_Excess</th> <td>    0.0096</td> <td>    0.000</td> <td>   60.096</td> <td> 0.000</td> <td>    0.009</td> <td>    0.010</td>\n",
       "</tr>\n",
       "<tr>\n",
       "  <th>SMB</th>        <td>    0.0002</td> <td>    0.000</td> <td>    0.703</td> <td> 0.483</td> <td>   -0.000</td> <td>    0.001</td>\n",
       "</tr>\n",
       "<tr>\n",
       "  <th>HML</th>        <td>    0.0033</td> <td>    0.000</td> <td>   11.615</td> <td> 0.000</td> <td>    0.003</td> <td>    0.004</td>\n",
       "</tr>\n",
       "<tr>\n",
       "  <th>RMW</th>        <td>   -0.0030</td> <td>    0.000</td> <td>   -6.263</td> <td> 0.000</td> <td>   -0.004</td> <td>   -0.002</td>\n",
       "</tr>\n",
       "<tr>\n",
       "  <th>CMA</th>        <td>    0.0022</td> <td>    0.001</td> <td>    3.613</td> <td> 0.000</td> <td>    0.001</td> <td>    0.003</td>\n",
       "</tr>\n",
       "<tr>\n",
       "  <th>RF</th>         <td>   -0.8983</td> <td>    0.052</td> <td>  -17.140</td> <td> 0.000</td> <td>   -1.001</td> <td>   -0.795</td>\n",
       "</tr>\n",
       "</table>\n",
       "<table class=\"simpletable\">\n",
       "<tr>\n",
       "  <th>Omnibus:</th>       <td>65.690</td> <th>  Durbin-Watson:     </th> <td>   2.176</td>\n",
       "</tr>\n",
       "<tr>\n",
       "  <th>Prob(Omnibus):</th> <td> 0.000</td> <th>  Jarque-Bera (JB):  </th> <td> 282.082</td>\n",
       "</tr>\n",
       "<tr>\n",
       "  <th>Skew:</th>          <td> 0.241</td> <th>  Prob(JB):          </th> <td>5.58e-62</td>\n",
       "</tr>\n",
       "<tr>\n",
       "  <th>Kurtosis:</th>      <td> 5.912</td> <th>  Cond. No.          </th> <td>    364.</td>\n",
       "</tr>\n",
       "</table><br/><br/>Notes:<br/>[1] Standard Errors assume that the covariance matrix of the errors is correctly specified."
      ],
      "text/plain": [
       "<class 'statsmodels.iolib.summary.Summary'>\n",
       "\"\"\"\n",
       "                            OLS Regression Results                            \n",
       "==============================================================================\n",
       "Dep. Variable:            Port_Excess   R-squared:                       0.869\n",
       "Model:                            OLS   Adj. R-squared:                  0.868\n",
       "Method:                 Least Squares   F-statistic:                     850.7\n",
       "Date:                Mon, 24 Jan 2022   Prob (F-statistic):               0.00\n",
       "Time:                        21:03:22   Log-Likelihood:                 2868.1\n",
       "No. Observations:                 777   AIC:                            -5722.\n",
       "Df Residuals:                     770   BIC:                            -5690.\n",
       "Df Model:                           6                                         \n",
       "Covariance Type:            nonrobust                                         \n",
       "==============================================================================\n",
       "                 coef    std err          t      P>|t|      [0.025      0.975]\n",
       "------------------------------------------------------------------------------\n",
       "Intercept     -0.0002      0.000     -0.550      0.583      -0.001       0.000\n",
       "Mkt_Excess     0.0096      0.000     60.096      0.000       0.009       0.010\n",
       "SMB            0.0002      0.000      0.703      0.483      -0.000       0.001\n",
       "HML            0.0033      0.000     11.615      0.000       0.003       0.004\n",
       "RMW           -0.0030      0.000     -6.263      0.000      -0.004      -0.002\n",
       "CMA            0.0022      0.001      3.613      0.000       0.001       0.003\n",
       "RF            -0.8983      0.052    -17.140      0.000      -1.001      -0.795\n",
       "==============================================================================\n",
       "Omnibus:                       65.690   Durbin-Watson:                   2.176\n",
       "Prob(Omnibus):                  0.000   Jarque-Bera (JB):              282.082\n",
       "Skew:                           0.241   Prob(JB):                     5.58e-62\n",
       "Kurtosis:                       5.912   Cond. No.                         364.\n",
       "==============================================================================\n",
       "\n",
       "Notes:\n",
       "[1] Standard Errors assume that the covariance matrix of the errors is correctly specified.\n",
       "\"\"\""
      ]
     },
     "execution_count": 73,
     "metadata": {},
     "output_type": "execute_result"
    }
   ],
   "source": [
    "# Merging the new stocks df with the fama-french 5 factors \n",
    "all_data = pd.merge(ff5_factors, pd.DataFrame(new_stock_port), how = 'inner', left_index= True, right_index= True)\n",
    "all_data.head()\n",
    "\n",
    "# Calculate the excess returns\n",
    "all_data['Port_Excess'] = all_data['Portfolio'] - all_data['RF']\n",
    "print(all_data.tail())\n",
    "\n",
    "# Rename the columns\n",
    "all_data.rename(columns={\"Mkt-RF\":\"Mkt_Excess\"}, inplace=True)\n",
    "\n",
    "# Build a regression model \n",
    "model = smf.formula.ols(formula = \"Port_Excess ~ Mkt_Excess + SMB + HML + RMW + CMA + RF\", data = all_data).fit()\n",
    "model.summary()"
   ]
  },
  {
   "cell_type": "markdown",
   "metadata": {},
   "source": [
    "<b>Summary:</b> \n",
    "\n",
    "<b>Market Risk Premium:</b> is the rate at which investing in the market outperforms investing in a zero-risk asset\n",
    "- this is the return we get for investing in this portfolio - 0.0096 \n",
    "\n",
    "<b>Small Minus Big(SMB):</b> accounts for publicly traded companies with small caps \n",
    "- our coefficient is extremely close to 0, indicating that the portfolio's excess return is not really achieved smaller size companies\n",
    "\n",
    "<b>High Minus Low(HML):</b> accounts for value stocks with high book-to-market ratios \n",
    "- the coefficient is 0.0033, which could indicate the portfolio's excess return is attributed to value stocks \n",
    "\n",
    "<b>Robust Minus Weak(RMW):</b> accounts for the difference in returns between firms with robust and weak profitability \n",
    "- the negative RMW coefficient indicates that our portfolio is consists of stocks with high market beta\n",
    "\n",
    "<b>Conservation Minus Aggressive(CMA):</b> an investment factor that accounts for the difference between the returns of firms that invest conservatively vs aggressively \n",
    "- the positive CMA coefficient indicates that the excess portfolio return is attributed to firms that invest conservatively "
   ]
  },
  {
   "cell_type": "code",
   "execution_count": 74,
   "metadata": {},
   "outputs": [
    {
     "data": {
      "text/html": [
       "<div>\n",
       "<style scoped>\n",
       "    .dataframe tbody tr th:only-of-type {\n",
       "        vertical-align: middle;\n",
       "    }\n",
       "\n",
       "    .dataframe tbody tr th {\n",
       "        vertical-align: top;\n",
       "    }\n",
       "\n",
       "    .dataframe thead th {\n",
       "        text-align: right;\n",
       "    }\n",
       "</style>\n",
       "<table border=\"1\" class=\"dataframe\">\n",
       "  <thead>\n",
       "    <tr style=\"text-align: right;\">\n",
       "      <th></th>\n",
       "      <th>Mkt_Excess</th>\n",
       "      <th>SMB</th>\n",
       "      <th>HML</th>\n",
       "      <th>RMW</th>\n",
       "      <th>CMA</th>\n",
       "      <th>RF</th>\n",
       "      <th>Portfolio</th>\n",
       "      <th>Port_Excess</th>\n",
       "    </tr>\n",
       "  </thead>\n",
       "  <tbody>\n",
       "    <tr>\n",
       "      <th>Mkt_Excess</th>\n",
       "      <td>1.000000</td>\n",
       "      <td>0.201368</td>\n",
       "      <td>0.136338</td>\n",
       "      <td>0.019548</td>\n",
       "      <td>-0.169366</td>\n",
       "      <td>-0.041724</td>\n",
       "      <td>0.890274</td>\n",
       "      <td>0.868655</td>\n",
       "    </tr>\n",
       "    <tr>\n",
       "      <th>SMB</th>\n",
       "      <td>0.201368</td>\n",
       "      <td>1.000000</td>\n",
       "      <td>0.475479</td>\n",
       "      <td>-0.122714</td>\n",
       "      <td>0.165266</td>\n",
       "      <td>-0.054658</td>\n",
       "      <td>0.322748</td>\n",
       "      <td>0.324822</td>\n",
       "    </tr>\n",
       "    <tr>\n",
       "      <th>HML</th>\n",
       "      <td>0.136338</td>\n",
       "      <td>0.475479</td>\n",
       "      <td>1.000000</td>\n",
       "      <td>0.420270</td>\n",
       "      <td>0.556061</td>\n",
       "      <td>-0.036674</td>\n",
       "      <td>0.355222</td>\n",
       "      <td>0.352151</td>\n",
       "    </tr>\n",
       "    <tr>\n",
       "      <th>RMW</th>\n",
       "      <td>0.019548</td>\n",
       "      <td>-0.122714</td>\n",
       "      <td>0.420270</td>\n",
       "      <td>1.000000</td>\n",
       "      <td>0.366512</td>\n",
       "      <td>-0.040759</td>\n",
       "      <td>0.034887</td>\n",
       "      <td>0.043806</td>\n",
       "    </tr>\n",
       "    <tr>\n",
       "      <th>CMA</th>\n",
       "      <td>-0.169366</td>\n",
       "      <td>0.165266</td>\n",
       "      <td>0.556061</td>\n",
       "      <td>0.366512</td>\n",
       "      <td>1.000000</td>\n",
       "      <td>-0.020533</td>\n",
       "      <td>0.012720</td>\n",
       "      <td>0.018131</td>\n",
       "    </tr>\n",
       "    <tr>\n",
       "      <th>RF</th>\n",
       "      <td>-0.041724</td>\n",
       "      <td>-0.054658</td>\n",
       "      <td>-0.036674</td>\n",
       "      <td>-0.040759</td>\n",
       "      <td>-0.020533</td>\n",
       "      <td>1.000000</td>\n",
       "      <td>-0.016414</td>\n",
       "      <td>-0.265572</td>\n",
       "    </tr>\n",
       "    <tr>\n",
       "      <th>Portfolio</th>\n",
       "      <td>0.890274</td>\n",
       "      <td>0.322748</td>\n",
       "      <td>0.355222</td>\n",
       "      <td>0.034887</td>\n",
       "      <td>0.012720</td>\n",
       "      <td>-0.016414</td>\n",
       "      <td>1.000000</td>\n",
       "      <td>0.968320</td>\n",
       "    </tr>\n",
       "    <tr>\n",
       "      <th>Port_Excess</th>\n",
       "      <td>0.868655</td>\n",
       "      <td>0.324822</td>\n",
       "      <td>0.352151</td>\n",
       "      <td>0.043806</td>\n",
       "      <td>0.018131</td>\n",
       "      <td>-0.265572</td>\n",
       "      <td>0.968320</td>\n",
       "      <td>1.000000</td>\n",
       "    </tr>\n",
       "  </tbody>\n",
       "</table>\n",
       "</div>"
      ],
      "text/plain": [
       "             Mkt_Excess       SMB       HML       RMW       CMA        RF  \\\n",
       "Mkt_Excess     1.000000  0.201368  0.136338  0.019548 -0.169366 -0.041724   \n",
       "SMB            0.201368  1.000000  0.475479 -0.122714  0.165266 -0.054658   \n",
       "HML            0.136338  0.475479  1.000000  0.420270  0.556061 -0.036674   \n",
       "RMW            0.019548 -0.122714  0.420270  1.000000  0.366512 -0.040759   \n",
       "CMA           -0.169366  0.165266  0.556061  0.366512  1.000000 -0.020533   \n",
       "RF            -0.041724 -0.054658 -0.036674 -0.040759 -0.020533  1.000000   \n",
       "Portfolio      0.890274  0.322748  0.355222  0.034887  0.012720 -0.016414   \n",
       "Port_Excess    0.868655  0.324822  0.352151  0.043806  0.018131 -0.265572   \n",
       "\n",
       "             Portfolio  Port_Excess  \n",
       "Mkt_Excess    0.890274     0.868655  \n",
       "SMB           0.322748     0.324822  \n",
       "HML           0.355222     0.352151  \n",
       "RMW           0.034887     0.043806  \n",
       "CMA           0.012720     0.018131  \n",
       "RF           -0.016414    -0.265572  \n",
       "Portfolio     1.000000     0.968320  \n",
       "Port_Excess   0.968320     1.000000  "
      ]
     },
     "execution_count": 74,
     "metadata": {},
     "output_type": "execute_result"
    }
   ],
   "source": [
    "# Calc. fama_df corr. \n",
    "all_data.corr()"
   ]
  },
  {
   "cell_type": "markdown",
   "metadata": {},
   "source": [
    "## VII. Monte Carlo Simulation "
   ]
  },
  {
   "cell_type": "code",
   "execution_count": 83,
   "metadata": {},
   "outputs": [
    {
     "name": "stdout",
     "output_type": "stream",
     "text": [
      "Symbols      TGT   CVX    GE  TDOC   NEE   AXP    KO   PSX\n",
      "Date                                                      \n",
      "2018-10-29   NaN   NaN   NaN   NaN   NaN   NaN   NaN   NaN\n",
      "2018-10-30  1.99  1.76 -8.78  6.28  0.45  0.88  2.52  3.59\n",
      "2018-10-31 -2.50  0.72 -0.79  3.20 -0.61  0.64  0.52  0.74\n",
      "2018-11-01  0.72 -0.43 -5.15  0.26 -1.18  1.28 -0.29 -0.31\n",
      "2018-11-02  0.21  3.20 -3.03  4.30 -1.36 -0.32  0.54 -3.40\n",
      "...          ...   ...   ...   ...   ...   ...   ...   ...\n",
      "2022-01-18 -0.63  0.33 -0.26 -4.86 -2.34 -1.32 -0.80  0.09\n",
      "2022-01-19  1.74 -0.36 -2.21 -0.25  1.65 -2.88  0.16 -1.60\n",
      "2022-01-20 -0.95 -0.36 -2.36  0.90  1.11 -0.29 -0.41 -1.99\n",
      "2022-01-21 -2.02 -1.20 -1.98 -4.32 -1.09 -1.35 -0.49 -2.41\n",
      "2022-01-24  1.27  0.46  0.45  3.14 -0.73  0.11 -0.86 -0.64\n",
      "\n",
      "[815 rows x 8 columns]\n"
     ]
    }
   ],
   "source": [
    "# Compute stock returns and print the returns in percentage format\n",
    "stock_pct = stocks_df.pct_change()\n",
    "print (stock_pct.round(4)*100)"
   ]
  },
  {
   "cell_type": "code",
   "execution_count": 76,
   "metadata": {},
   "outputs": [
    {
     "name": "stdout",
     "output_type": "stream",
     "text": [
      "Symbols\n",
      "TGT     0.001477\n",
      "CVX     0.000686\n",
      "GE      0.000617\n",
      "TDOC    0.000901\n",
      "NEE     0.001029\n",
      "AXP     0.000936\n",
      "KO      0.000551\n",
      "PSX     0.000383\n",
      "dtype: float64\n",
      "Symbols       TGT       CVX        GE      TDOC       NEE       AXP        KO  \\\n",
      "Symbols                                                                         \n",
      "TGT      0.000417  0.000145  0.000140  0.000151  0.000124  0.000160  0.000090   \n",
      "CVX      0.000145  0.000596  0.000420 -0.000036  0.000172  0.000467  0.000194   \n",
      "GE       0.000140  0.000420  0.000909  0.000009  0.000146  0.000463  0.000192   \n",
      "TDOC     0.000151 -0.000036  0.000009  0.001374  0.000057 -0.000049 -0.000040   \n",
      "NEE      0.000124  0.000172  0.000146  0.000057  0.000310  0.000201  0.000158   \n",
      "AXP      0.000160  0.000467  0.000463 -0.000049  0.000201  0.000663  0.000225   \n",
      "KO       0.000090  0.000194  0.000192 -0.000040  0.000158  0.000225  0.000219   \n",
      "PSX      0.000147  0.000546  0.000487 -0.000036  0.000143  0.000533  0.000208   \n",
      "\n",
      "Symbols       PSX  \n",
      "Symbols            \n",
      "TGT      0.000147  \n",
      "CVX      0.000546  \n",
      "GE       0.000487  \n",
      "TDOC    -0.000036  \n",
      "NEE      0.000143  \n",
      "AXP      0.000533  \n",
      "KO       0.000208  \n",
      "PSX      0.000846  \n"
     ]
    }
   ],
   "source": [
    "# Calc. arithmetic mean daily return\n",
    "# Calc. arithmetic cov matrix\n",
    "mean_ret = stock_pct.mean()\n",
    "covariance_matrix = stock_pct.cov()\n",
    "\n",
    "print(mean_ret)\n",
    "print(covariance_matrix)"
   ]
  },
  {
   "cell_type": "code",
   "execution_count": 77,
   "metadata": {},
   "outputs": [
    {
     "data": {
      "text/html": [
       "<div>\n",
       "<style scoped>\n",
       "    .dataframe tbody tr th:only-of-type {\n",
       "        vertical-align: middle;\n",
       "    }\n",
       "\n",
       "    .dataframe tbody tr th {\n",
       "        vertical-align: top;\n",
       "    }\n",
       "\n",
       "    .dataframe thead th {\n",
       "        text-align: right;\n",
       "    }\n",
       "</style>\n",
       "<table border=\"1\" class=\"dataframe\">\n",
       "  <thead>\n",
       "    <tr style=\"text-align: right;\">\n",
       "      <th>Symbols</th>\n",
       "      <th>TGT</th>\n",
       "      <th>CVX</th>\n",
       "      <th>GE</th>\n",
       "      <th>TDOC</th>\n",
       "      <th>NEE</th>\n",
       "      <th>AXP</th>\n",
       "      <th>KO</th>\n",
       "      <th>PSX</th>\n",
       "    </tr>\n",
       "    <tr>\n",
       "      <th>Date</th>\n",
       "      <th></th>\n",
       "      <th></th>\n",
       "      <th></th>\n",
       "      <th></th>\n",
       "      <th></th>\n",
       "      <th></th>\n",
       "      <th></th>\n",
       "      <th></th>\n",
       "    </tr>\n",
       "  </thead>\n",
       "  <tbody>\n",
       "    <tr>\n",
       "      <th>2018-10-29</th>\n",
       "      <td>NaN</td>\n",
       "      <td>NaN</td>\n",
       "      <td>NaN</td>\n",
       "      <td>NaN</td>\n",
       "      <td>NaN</td>\n",
       "      <td>NaN</td>\n",
       "      <td>NaN</td>\n",
       "      <td>NaN</td>\n",
       "    </tr>\n",
       "    <tr>\n",
       "      <th>2018-10-30</th>\n",
       "      <td>0.019662</td>\n",
       "      <td>0.017473</td>\n",
       "      <td>-0.091911</td>\n",
       "      <td>0.060904</td>\n",
       "      <td>0.004446</td>\n",
       "      <td>0.008757</td>\n",
       "      <td>0.024871</td>\n",
       "      <td>0.035301</td>\n",
       "    </tr>\n",
       "    <tr>\n",
       "      <th>2018-10-31</th>\n",
       "      <td>-0.025267</td>\n",
       "      <td>0.007191</td>\n",
       "      <td>-0.007890</td>\n",
       "      <td>0.031497</td>\n",
       "      <td>-0.006068</td>\n",
       "      <td>0.006347</td>\n",
       "      <td>0.005235</td>\n",
       "      <td>0.007419</td>\n",
       "    </tr>\n",
       "    <tr>\n",
       "      <th>2018-11-01</th>\n",
       "      <td>0.007149</td>\n",
       "      <td>-0.004308</td>\n",
       "      <td>-0.052858</td>\n",
       "      <td>0.002593</td>\n",
       "      <td>-0.011838</td>\n",
       "      <td>0.012671</td>\n",
       "      <td>-0.002928</td>\n",
       "      <td>-0.003117</td>\n",
       "    </tr>\n",
       "    <tr>\n",
       "      <th>2018-11-02</th>\n",
       "      <td>0.002135</td>\n",
       "      <td>0.031521</td>\n",
       "      <td>-0.030739</td>\n",
       "      <td>0.042110</td>\n",
       "      <td>-0.013703</td>\n",
       "      <td>-0.003177</td>\n",
       "      <td>0.005431</td>\n",
       "      <td>-0.034642</td>\n",
       "    </tr>\n",
       "    <tr>\n",
       "      <th>...</th>\n",
       "      <td>...</td>\n",
       "      <td>...</td>\n",
       "      <td>...</td>\n",
       "      <td>...</td>\n",
       "      <td>...</td>\n",
       "      <td>...</td>\n",
       "      <td>...</td>\n",
       "      <td>...</td>\n",
       "    </tr>\n",
       "    <tr>\n",
       "      <th>2022-01-18</th>\n",
       "      <td>-0.006298</td>\n",
       "      <td>0.003252</td>\n",
       "      <td>-0.002621</td>\n",
       "      <td>-0.049859</td>\n",
       "      <td>-0.023716</td>\n",
       "      <td>-0.013331</td>\n",
       "      <td>-0.008014</td>\n",
       "      <td>0.000903</td>\n",
       "    </tr>\n",
       "    <tr>\n",
       "      <th>2022-01-19</th>\n",
       "      <td>0.017259</td>\n",
       "      <td>-0.003639</td>\n",
       "      <td>-0.022309</td>\n",
       "      <td>-0.002513</td>\n",
       "      <td>0.016358</td>\n",
       "      <td>-0.029188</td>\n",
       "      <td>0.001641</td>\n",
       "      <td>-0.016146</td>\n",
       "    </tr>\n",
       "    <tr>\n",
       "      <th>2022-01-20</th>\n",
       "      <td>-0.009516</td>\n",
       "      <td>-0.003575</td>\n",
       "      <td>-0.023836</td>\n",
       "      <td>0.008965</td>\n",
       "      <td>0.011078</td>\n",
       "      <td>-0.002916</td>\n",
       "      <td>-0.004107</td>\n",
       "      <td>-0.020147</td>\n",
       "    </tr>\n",
       "    <tr>\n",
       "      <th>2022-01-21</th>\n",
       "      <td>-0.020367</td>\n",
       "      <td>-0.012061</td>\n",
       "      <td>-0.020047</td>\n",
       "      <td>-0.044142</td>\n",
       "      <td>-0.010957</td>\n",
       "      <td>-0.013640</td>\n",
       "      <td>-0.004950</td>\n",
       "      <td>-0.024389</td>\n",
       "    </tr>\n",
       "    <tr>\n",
       "      <th>2022-01-24</th>\n",
       "      <td>0.012624</td>\n",
       "      <td>0.004638</td>\n",
       "      <td>0.004455</td>\n",
       "      <td>0.030930</td>\n",
       "      <td>-0.007290</td>\n",
       "      <td>0.001133</td>\n",
       "      <td>-0.008639</td>\n",
       "      <td>-0.006432</td>\n",
       "    </tr>\n",
       "  </tbody>\n",
       "</table>\n",
       "<p>815 rows × 8 columns</p>\n",
       "</div>"
      ],
      "text/plain": [
       "Symbols          TGT       CVX        GE      TDOC       NEE       AXP  \\\n",
       "Date                                                                     \n",
       "2018-10-29       NaN       NaN       NaN       NaN       NaN       NaN   \n",
       "2018-10-30  0.019662  0.017473 -0.091911  0.060904  0.004446  0.008757   \n",
       "2018-10-31 -0.025267  0.007191 -0.007890  0.031497 -0.006068  0.006347   \n",
       "2018-11-01  0.007149 -0.004308 -0.052858  0.002593 -0.011838  0.012671   \n",
       "2018-11-02  0.002135  0.031521 -0.030739  0.042110 -0.013703 -0.003177   \n",
       "...              ...       ...       ...       ...       ...       ...   \n",
       "2022-01-18 -0.006298  0.003252 -0.002621 -0.049859 -0.023716 -0.013331   \n",
       "2022-01-19  0.017259 -0.003639 -0.022309 -0.002513  0.016358 -0.029188   \n",
       "2022-01-20 -0.009516 -0.003575 -0.023836  0.008965  0.011078 -0.002916   \n",
       "2022-01-21 -0.020367 -0.012061 -0.020047 -0.044142 -0.010957 -0.013640   \n",
       "2022-01-24  0.012624  0.004638  0.004455  0.030930 -0.007290  0.001133   \n",
       "\n",
       "Symbols           KO       PSX  \n",
       "Date                            \n",
       "2018-10-29       NaN       NaN  \n",
       "2018-10-30  0.024871  0.035301  \n",
       "2018-10-31  0.005235  0.007419  \n",
       "2018-11-01 -0.002928 -0.003117  \n",
       "2018-11-02  0.005431 -0.034642  \n",
       "...              ...       ...  \n",
       "2022-01-18 -0.008014  0.000903  \n",
       "2022-01-19  0.001641 -0.016146  \n",
       "2022-01-20 -0.004107 -0.020147  \n",
       "2022-01-21 -0.004950 -0.024389  \n",
       "2022-01-24 -0.008639 -0.006432  \n",
       "\n",
       "[815 rows x 8 columns]"
      ]
     },
     "execution_count": 77,
     "metadata": {},
     "output_type": "execute_result"
    }
   ],
   "source": [
    "# Calc. the log returns for all stocks\n",
    "log_change = stocks_df.pct_change()\n",
    "log_return = np.log(1+log_change)\n",
    "log_return"
   ]
  },
  {
   "cell_type": "code",
   "execution_count": 78,
   "metadata": {},
   "outputs": [],
   "source": [
    "# Create random seeds so code can be reproduced\n",
    "np.random.seed(123)\n",
    "\n",
    "# # Define the an array which the numbers of simulation would be execute\n",
    "num_simulation = 1000\n",
    "# # get the number of columns in stocks_df, [1] to acess the 2nd element of tuple which is column\n",
    "all_weights = np.zeros((num_simulation, stocks_df.shape[1])) \n",
    "# Create three arrays to save all stock returns, volatility, and sharpe ratios for the numbers of times simulation is run\n",
    "returns = np.zeros(num_simulation) \n",
    "volatility = np.zeros(num_simulation)\n",
    "mc_sr = np.zeros(num_simulation)\n",
    "\n",
    "\n",
    "\n",
    "# Create a for loop to run the simulation \n",
    "for i in range(num_simulation): \n",
    "    # weights \n",
    "    weights = np.array(np.random.random(8)) \n",
    "    weights = weights/np.sum(weights)\n",
    "#     weights.append(weights)\n",
    "\n",
    "    # save the simulated portfolio weights\n",
    "    all_weights[i,:] = weights\n",
    "\n",
    "    # expected stock return \n",
    "    returns[i] = np.sum((log_return.mean()*weights)*252)\n",
    "\n",
    "    # expected standard deviation \n",
    "    volatility[i] = np.sqrt(np.dot(weights.T,np.dot(log_return.cov()*252, weights)))\n",
    "\n",
    "    # Sharpe Ratio \n",
    "    mc_sr[i] = (returns[i] - risk_free) / volatility[i]"
   ]
  },
  {
   "cell_type": "code",
   "execution_count": 79,
   "metadata": {},
   "outputs": [
    {
     "data": {
      "text/html": [
       "<div>\n",
       "<style scoped>\n",
       "    .dataframe tbody tr th:only-of-type {\n",
       "        vertical-align: middle;\n",
       "    }\n",
       "\n",
       "    .dataframe tbody tr th {\n",
       "        vertical-align: top;\n",
       "    }\n",
       "\n",
       "    .dataframe thead th {\n",
       "        text-align: right;\n",
       "    }\n",
       "</style>\n",
       "<table border=\"1\" class=\"dataframe\">\n",
       "  <thead>\n",
       "    <tr style=\"text-align: right;\">\n",
       "      <th></th>\n",
       "      <th>Ticker</th>\n",
       "      <th>Port_Weight</th>\n",
       "    </tr>\n",
       "  </thead>\n",
       "  <tbody>\n",
       "    <tr>\n",
       "      <th>0</th>\n",
       "      <td>TGT</td>\n",
       "      <td>0.333774</td>\n",
       "    </tr>\n",
       "    <tr>\n",
       "      <th>1</th>\n",
       "      <td>CVX</td>\n",
       "      <td>0.110099</td>\n",
       "    </tr>\n",
       "    <tr>\n",
       "      <th>2</th>\n",
       "      <td>GE</td>\n",
       "      <td>0.033067</td>\n",
       "    </tr>\n",
       "    <tr>\n",
       "      <th>3</th>\n",
       "      <td>TDOC</td>\n",
       "      <td>0.013136</td>\n",
       "    </tr>\n",
       "    <tr>\n",
       "      <th>4</th>\n",
       "      <td>NEE</td>\n",
       "      <td>0.321334</td>\n",
       "    </tr>\n",
       "    <tr>\n",
       "      <th>5</th>\n",
       "      <td>AXP</td>\n",
       "      <td>0.043594</td>\n",
       "    </tr>\n",
       "    <tr>\n",
       "      <th>6</th>\n",
       "      <td>KO</td>\n",
       "      <td>0.104847</td>\n",
       "    </tr>\n",
       "    <tr>\n",
       "      <th>7</th>\n",
       "      <td>PSX</td>\n",
       "      <td>0.040148</td>\n",
       "    </tr>\n",
       "  </tbody>\n",
       "</table>\n",
       "</div>"
      ],
      "text/plain": [
       "  Ticker  Port_Weight\n",
       "0    TGT     0.333774\n",
       "1    CVX     0.110099\n",
       "2     GE     0.033067\n",
       "3   TDOC     0.013136\n",
       "4    NEE     0.321334\n",
       "5    AXP     0.043594\n",
       "6     KO     0.104847\n",
       "7    PSX     0.040148"
      ]
     },
     "execution_count": 79,
     "metadata": {},
     "output_type": "execute_result"
    }
   ],
   "source": [
    "# Create a df of optimized port. weights with the respective ticker\n",
    "ticker = ['TGT', 'CVX', 'GE', 'TDOC', 'NEE', 'AXP', 'KO', 'PSX']\n",
    "pd.DataFrame(list(zip(ticker, all_weights[mc_sr.argmax()])), columns=['Ticker', 'Port_Weight'])"
   ]
  },
  {
   "cell_type": "code",
   "execution_count": 88,
   "metadata": {},
   "outputs": [
    {
     "data": {
      "text/plain": [
       "0.6444469775075233"
      ]
     },
     "execution_count": 88,
     "metadata": {},
     "output_type": "execute_result"
    }
   ],
   "source": [
    "# Retrieve the max. sharpe ratio \n",
    "mc_sr.max()"
   ]
  },
  {
   "cell_type": "code",
   "execution_count": 89,
   "metadata": {},
   "outputs": [
    {
     "data": {
      "text/plain": [
       "0.9753428648748593"
      ]
     },
     "execution_count": 89,
     "metadata": {},
     "output_type": "execute_result"
    }
   ],
   "source": [
    "# Retrieve the max. \n",
    "port_sr = (ann_return - risk_free) / ann_stdv_stock\n",
    "port_sr.max()"
   ]
  },
  {
   "cell_type": "code",
   "execution_count": 91,
   "metadata": {},
   "outputs": [
    {
     "data": {
      "image/png": "[encoded data removed]",
      "text/plain": [
       "<Figure size 576x576 with 2 Axes>"
      ]
     },
     "metadata": {
      "needs_background": "light"
     },
     "output_type": "display_data"
    }
   ],
   "source": [
    "plt.figure(figsize=(8,8));\n",
    "plt.scatter(volatility,returns,c=mc_sr,cmap='plasma');\n",
    "plt.colorbar(label='Sharpe Ratio');\n",
    "plt.xlabel('Volatility');\n",
    "plt.ylabel('Return');\n",
    "\n",
    "# Add a star to represent max SR\n",
    "plt.scatter(volatility[sharpe_ratio.argmax()], returns[mc_sr.argmax()],\n",
    "            c='red',s=500,edgecolors='black', marker='*')\n",
    "             \n",
    "plt.tight_layout()\n",
    "plt.show()"
   ]
  },
  {
   "cell_type": "markdown",
   "metadata": {},
   "source": [
    "<b>Summary:</b> \n",
    "- surprisingly, our random portfolio weight of 0.125 for each stock has a higher Sharpe ratio than the maximum Sharpe ratio produced by running a Monte Carlo simulation \n",
    "- Let's see what the scripy package would produce in terms of portfolio weights and Sharpe ratio. "
   ]
  },
  {
   "cell_type": "markdown",
   "metadata": {},
   "source": [
    "## VIII. Using Scipy Package to Optimze Portfolio"
   ]
  },
  {
   "cell_type": "markdown",
   "metadata": {},
   "source": [
    "### A. Optimal Portfolio Weights for Negative Sharpe Ratio"
   ]
  },
  {
   "cell_type": "code",
   "execution_count": 92,
   "metadata": {},
   "outputs": [],
   "source": [
    "# Define a function which will return the portfolio returns, volatility, sharpe ratio \n",
    "# This function will be used later to calc. the port. weights at minimal volatility and negative sharpe ratio \n",
    "def ret_vol_sharpe_func(weights): \n",
    "    weights = np.array(weights)\n",
    "    returns = np.sum((log_return.mean()*weights)*252)\n",
    "    volatility = np.sqrt(np.dot(weights.T,np.dot(log_return.cov()*252, weights)))\n",
    "    # sharpe_ratio = (returns - risk_free) / volatility\n",
    "    sharpe_ratio = returns / volatility\n",
    "    # risk_free\n",
    "    # return np.array([returns, volatility, sharpe_ratio])\n",
    "    return returns, volatility, sharpe_ratio"
   ]
  },
  {
   "cell_type": "code",
   "execution_count": 93,
   "metadata": {},
   "outputs": [
    {
     "data": {
      "text/plain": [
       "     fun: -1.1039072059968242\n",
       "     jac: array([ 6.59525394e-05,  2.95014635e-01,  4.63266864e-01,  3.01267982e-01,\n",
       "       -9.62018967e-05,  1.58474818e-01,  7.88136870e-02,  6.85358509e-01])\n",
       " message: 'Optimization terminated successfully'\n",
       "    nfev: 45\n",
       "     nit: 5\n",
       "    njev: 5\n",
       "  status: 0\n",
       " success: True\n",
       "       x: array([5.93285064e-01, 2.53378048e-16, 0.00000000e+00, 0.00000000e+00,\n",
       "       4.06714936e-01, 1.33356867e-17, 3.63207728e-17, 0.00000000e+00])"
      ]
     },
     "execution_count": 93,
     "metadata": {},
     "output_type": "execute_result"
    }
   ],
   "source": [
    "# Goal 1 => Find optimal port. weights while minimizing negative Sharpe Ratio \n",
    "# Create an objective function called neg_sharpe \n",
    "# def neg_sharpe(weights, returns, volatility, sharpe_ratio):\n",
    "def neg_sharpe(weights):\n",
    "    # Access the third index of the above def function \n",
    "    return  ret_vol_sharpe_func(weights)[2] * -1 # multiply by -1 because scipy can only take minimize\n",
    "\n",
    "# Create constraints & make sure total weights add up to 1\n",
    "constraints = ({'type':'eq','fun': lambda x: np.sum(x) - 1})\n",
    "\n",
    "# Create boundaries for port. weights whose boundary starts from 0 and ends on 1 \n",
    "boundaries = tuple((0,1) for stock in range(stocks_df.shape[1]))\n",
    "\n",
    "# Randomly assign equal weights to our portfolio and saved in array form\n",
    "random_weights = np.array([0.125, 0.125, 0.125, 0.125, 0.125, 0.125, 0.125, 0.125])\n",
    "\n",
    "# Using scipy's built-in function minimize and sequential least sq. programming method to calc. the opt. sharpe ratio \n",
    "optimized_sharpe = sco.minimize(neg_sharpe, random_weights, method=\"SLSQP\", bounds=boundaries,constraints=constraints)\n",
    "optimized_sharpe"
   ]
  },
  {
   "cell_type": "code",
   "execution_count": 94,
   "metadata": {},
   "outputs": [
    {
     "data": {
      "text/plain": [
       "1.0000000000000004"
      ]
     },
     "execution_count": 94,
     "metadata": {},
     "output_type": "execute_result"
    }
   ],
   "source": [
    "# Make sure portfolio weights add up to 1\n",
    "np.sum(optimized_sharpe.x)"
   ]
  },
  {
   "cell_type": "code",
   "execution_count": 95,
   "metadata": {},
   "outputs": [
    {
     "data": {
      "text/plain": [
       "array([5.93285064e-01, 2.53378048e-16, 0.00000000e+00, 0.00000000e+00,\n",
       "       4.06714936e-01, 1.33356867e-17, 3.63207728e-17, 0.00000000e+00])"
      ]
     },
     "execution_count": 95,
     "metadata": {},
     "output_type": "execute_result"
    }
   ],
   "source": [
    "optimized_sharpe.x"
   ]
  },
  {
   "cell_type": "code",
   "execution_count": 191,
   "metadata": {},
   "outputs": [
    {
     "data": {
      "text/html": [
       "<div>\n",
       "<style scoped>\n",
       "    .dataframe tbody tr th:only-of-type {\n",
       "        vertical-align: middle;\n",
       "    }\n",
       "\n",
       "    .dataframe tbody tr th {\n",
       "        vertical-align: top;\n",
       "    }\n",
       "\n",
       "    .dataframe thead th {\n",
       "        text-align: right;\n",
       "    }\n",
       "</style>\n",
       "<table border=\"1\" class=\"dataframe\">\n",
       "  <thead>\n",
       "    <tr style=\"text-align: right;\">\n",
       "      <th></th>\n",
       "      <th>Ticker</th>\n",
       "      <th>Port_Weight</th>\n",
       "    </tr>\n",
       "  </thead>\n",
       "  <tbody>\n",
       "    <tr>\n",
       "      <th>0</th>\n",
       "      <td>TGT</td>\n",
       "      <td>5.904118e-01</td>\n",
       "    </tr>\n",
       "    <tr>\n",
       "      <th>1</th>\n",
       "      <td>CVX</td>\n",
       "      <td>0.000000e+00</td>\n",
       "    </tr>\n",
       "    <tr>\n",
       "      <th>2</th>\n",
       "      <td>GE</td>\n",
       "      <td>1.337905e-16</td>\n",
       "    </tr>\n",
       "    <tr>\n",
       "      <th>3</th>\n",
       "      <td>TDOC</td>\n",
       "      <td>0.000000e+00</td>\n",
       "    </tr>\n",
       "    <tr>\n",
       "      <th>4</th>\n",
       "      <td>NEE</td>\n",
       "      <td>4.095882e-01</td>\n",
       "    </tr>\n",
       "    <tr>\n",
       "      <th>5</th>\n",
       "      <td>AXP</td>\n",
       "      <td>0.000000e+00</td>\n",
       "    </tr>\n",
       "    <tr>\n",
       "      <th>6</th>\n",
       "      <td>KO</td>\n",
       "      <td>1.853986e-17</td>\n",
       "    </tr>\n",
       "    <tr>\n",
       "      <th>7</th>\n",
       "      <td>PSX</td>\n",
       "      <td>8.001412e-17</td>\n",
       "    </tr>\n",
       "  </tbody>\n",
       "</table>\n",
       "</div>"
      ],
      "text/plain": [
       "  Ticker   Port_Weight\n",
       "0    TGT  5.904118e-01\n",
       "1    CVX  0.000000e+00\n",
       "2     GE  1.337905e-16\n",
       "3   TDOC  0.000000e+00\n",
       "4    NEE  4.095882e-01\n",
       "5    AXP  0.000000e+00\n",
       "6     KO  1.853986e-17\n",
       "7    PSX  8.001412e-17"
      ]
     },
     "execution_count": 191,
     "metadata": {},
     "output_type": "execute_result"
    }
   ],
   "source": [
    "# Create a df of optimized port. weights with the respective ticker\n",
    "ticker = ['TGT', 'CVX', 'GE', 'TDOC', 'NEE', 'AXP', 'KO', 'PSX']\n",
    "pd.DataFrame(list(zip(ticker, optimized_sharpe.x)), columns=['Ticker', 'Port_Weight'])"
   ]
  },
  {
   "cell_type": "code",
   "execution_count": 96,
   "metadata": {},
   "outputs": [
    {
     "data": {
      "text/plain": [
       "(0.2796173329116875, 0.2532978599946669, 1.1039072059968242)"
      ]
     },
     "execution_count": 96,
     "metadata": {},
     "output_type": "execute_result"
    }
   ],
   "source": [
    "# Retrieve the optimal result of Sharpe ratio \n",
    "# optimized_sharpe.x\n",
    "ret_vol_sharpe_func(optimized_sharpe.x)"
   ]
  },
  {
   "cell_type": "markdown",
   "metadata": {},
   "source": [
    "<b>Summary:</b> \n",
    "\n",
    "- this time using the scipy package to find the optimal portfolio weights while minimizing the negative Sharpe ratio, our Sharpe Ratio is the highest compared to the result from running the Monte Carlo simulation or our randomized portfolio weight example \n",
    "- based on the above table, we can see that scipy suggests we should allocate more weights to Target and NextEra Energy while allocating 0 weight to Chevron and American Express \n",
    "\n",
    "Let's see what will scipy package suggests if we want to minimize volatility. "
   ]
  },
  {
   "cell_type": "markdown",
   "metadata": {},
   "source": [
    "### B. Optimal Portfolio Weights for Minimal Volatility"
   ]
  },
  {
   "cell_type": "code",
   "execution_count": 97,
   "metadata": {},
   "outputs": [],
   "source": [
    "# Goal 2 => Find optimal port. weights while minimizing volatility \n",
    "# Define the array \n",
    "def ret_vol_func(weights): \n",
    "    weights = np.array(weights)\n",
    "    returns = np.sum((log_return.mean()*weights)*252)\n",
    "    volatility = np.sqrt(np.dot(weights.T,np.dot(log_return.cov()*252, weights)))\n",
    "    # return np.array([returns, volatility, sharpe_ratio])\n",
    "    return returns, volatility"
   ]
  },
  {
   "cell_type": "code",
   "execution_count": 98,
   "metadata": {},
   "outputs": [
    {
     "data": {
      "text/plain": [
       "     fun: 0.20191419109474049\n",
       "     jac: array([0.20186281, 0.20205061, 0.20180234, 0.20212413, 0.20184282,\n",
       "       0.22860607, 0.20190615, 0.20920621])\n",
       " message: 'Optimization terminated successfully'\n",
       "    nfev: 90\n",
       "     nit: 10\n",
       "    njev: 10\n",
       "  status: 0\n",
       " success: True\n",
       "       x: array([1.86492959e-01, 6.28746322e-03, 3.40787931e-04, 1.06503939e-01,\n",
       "       1.25706641e-01, 8.67361738e-18, 5.74668209e-01, 0.00000000e+00])"
      ]
     },
     "execution_count": 98,
     "metadata": {},
     "output_type": "execute_result"
    }
   ],
   "source": [
    "def vol(weights):\n",
    "    # Access the third index of the above def function \n",
    "    return  ret_vol_func(weights)[1] \n",
    "\n",
    "# Create constraints & make sure total weights add up to 1\n",
    "constraints = (# The weights must sum up to one.\n",
    "    {\"type\":\"eq\", \"fun\": lambda x: np.sum(x) - 1}, \n",
    "    # This constraints says that the inequalities (ineq) must be non-negative.\n",
    "    # The expected daily return of our portfolio and we want to be at greater than 0.003\n",
    "    {\"type\": \"ineq\", \"fun\": lambda x: np.sum(stocks_df.mean()*x)-0.003}) \n",
    "\n",
    "# # Create boundaries for port. weights whose boundary starts from 0 and ends on 1 \n",
    "boundaries = tuple((0,1) for stock in range(stocks_df.shape[1]))\n",
    "\n",
    "# Randomly assign equal weights to our portfolio and saved in array form\n",
    "random_weights = np.array([0.125, 0.125, 0.125, 0.125, 0.125, 0.125, 0.125, 0.125])\n",
    "\n",
    "# Using scipy's built-in function minimize and sequential least sq. programming method to find the minimal volatility or stv\n",
    "optimized_volatility = sco.minimize(vol, random_weights, method=\"SLSQP\", bounds=boundaries,constraints=constraints)\n",
    "optimized_volatility"
   ]
  },
  {
   "cell_type": "code",
   "execution_count": 99,
   "metadata": {},
   "outputs": [
    {
     "data": {
      "text/plain": [
       "1.0000000000000002"
      ]
     },
     "execution_count": 99,
     "metadata": {},
     "output_type": "execute_result"
    }
   ],
   "source": [
    "# Make sure portfolio weights add up to 1\n",
    "np.sum(optimized_volatility.x)"
   ]
  },
  {
   "cell_type": "code",
   "execution_count": 100,
   "metadata": {},
   "outputs": [
    {
     "data": {
      "text/html": [
       "<div>\n",
       "<style scoped>\n",
       "    .dataframe tbody tr th:only-of-type {\n",
       "        vertical-align: middle;\n",
       "    }\n",
       "\n",
       "    .dataframe tbody tr th {\n",
       "        vertical-align: top;\n",
       "    }\n",
       "\n",
       "    .dataframe thead th {\n",
       "        text-align: right;\n",
       "    }\n",
       "</style>\n",
       "<table border=\"1\" class=\"dataframe\">\n",
       "  <thead>\n",
       "    <tr style=\"text-align: right;\">\n",
       "      <th></th>\n",
       "      <th>Ticker</th>\n",
       "      <th>Port_Weight</th>\n",
       "    </tr>\n",
       "  </thead>\n",
       "  <tbody>\n",
       "    <tr>\n",
       "      <th>0</th>\n",
       "      <td>TGT</td>\n",
       "      <td>1.864930e-01</td>\n",
       "    </tr>\n",
       "    <tr>\n",
       "      <th>1</th>\n",
       "      <td>CVX</td>\n",
       "      <td>6.287463e-03</td>\n",
       "    </tr>\n",
       "    <tr>\n",
       "      <th>2</th>\n",
       "      <td>GE</td>\n",
       "      <td>3.407879e-04</td>\n",
       "    </tr>\n",
       "    <tr>\n",
       "      <th>3</th>\n",
       "      <td>TDOC</td>\n",
       "      <td>1.065039e-01</td>\n",
       "    </tr>\n",
       "    <tr>\n",
       "      <th>4</th>\n",
       "      <td>NEE</td>\n",
       "      <td>1.257066e-01</td>\n",
       "    </tr>\n",
       "    <tr>\n",
       "      <th>5</th>\n",
       "      <td>AXP</td>\n",
       "      <td>8.673617e-18</td>\n",
       "    </tr>\n",
       "    <tr>\n",
       "      <th>6</th>\n",
       "      <td>KO</td>\n",
       "      <td>5.746682e-01</td>\n",
       "    </tr>\n",
       "    <tr>\n",
       "      <th>7</th>\n",
       "      <td>PSX</td>\n",
       "      <td>0.000000e+00</td>\n",
       "    </tr>\n",
       "  </tbody>\n",
       "</table>\n",
       "</div>"
      ],
      "text/plain": [
       "  Ticker   Port_Weight\n",
       "0    TGT  1.864930e-01\n",
       "1    CVX  6.287463e-03\n",
       "2     GE  3.407879e-04\n",
       "3   TDOC  1.065039e-01\n",
       "4    NEE  1.257066e-01\n",
       "5    AXP  8.673617e-18\n",
       "6     KO  5.746682e-01\n",
       "7    PSX  0.000000e+00"
      ]
     },
     "execution_count": 100,
     "metadata": {},
     "output_type": "execute_result"
    }
   ],
   "source": [
    "# Create a df of optimized port. weights with the respective ticker\n",
    "pd.DataFrame(list(zip(ticker, optimized_volatility.x)), columns=['Ticker', 'Port_Weight'])"
   ]
  },
  {
   "cell_type": "code",
   "execution_count": 101,
   "metadata": {},
   "outputs": [
    {
     "data": {
      "text/plain": [
       "(0.1575165244840229, 0.20191419109474049)"
      ]
     },
     "execution_count": 101,
     "metadata": {},
     "output_type": "execute_result"
    }
   ],
   "source": [
    "# Retrieve the optimal result of minimal volatility \n",
    "optimized_volatility.x\n",
    "ret_vol_func(optimized_volatility.x)"
   ]
  },
  {
   "cell_type": "markdown",
   "metadata": {},
   "source": [
    "<b>Summary:</b> \n",
    "\n",
    "- if our goal is to minimize volatility, then according to what the scipy package suggests is to invest more  in Target and NextEra, and invest 0 weight in Phillips "
   ]
  },
  {
   "cell_type": "markdown",
   "metadata": {
    "tags": []
   },
   "source": [
    "## IX. Tear Sheet"
   ]
  },
  {
   "cell_type": "markdown",
   "metadata": {
    "tags": []
   },
   "source": [
    "### A. Using Quantstats Package to Create a Tear Sheet for QQQ"
   ]
  },
  {
   "cell_type": "code",
   "execution_count": 116,
   "metadata": {},
   "outputs": [],
   "source": [
    "# Save the best optimal portfolio weights for the maximum sharpe ratio in ticker variable\n",
    "tickers = {'TGT':5.904118e-01, \n",
    "           'CVX':0.000000e+00, \n",
    "           'GE':1.337905e-16, \n",
    "           'TDOC':0.000000e+00, \n",
    "           'NEE':4.095882e-01, \n",
    "           'AXP':0.000000e+00, \n",
    "           'KO':1.853986e-17, \n",
    "           'PSX':8.001412e-17}\n",
    "# Generate a complete tear sheet report of optimal stock portfolio weights \n",
    "# and compare to the benchmark - QQQ\n",
    "stocks_port = portfolio = qs.utils.make_index(tickers)\n",
    "qs.reports.html(stocks_port, \"IVV\", title=\" Stocks vs IVV\")"
   ]
  },
  {
   "cell_type": "markdown",
   "metadata": {},
   "source": [
    "<b>Summary:</b> \n",
    "\n",
    "- created a tear sheet by using the quantstats package which calculates some of the metrics we calculated manually earlier \n",
    "- the tear sheet provides a display of some graphs, and ratios of our stocks vs IVV"
   ]
  }
 ],
 "metadata": {
  "colab": {
   "name": "Welcome to DataCamp Workspaces.ipynb",
   "provenance": []
  },
  "kernelspec": {
   "display_name": "Python 3 (ipykernel)",
   "language": "python",
   "name": "python3"
  },
  "language_info": {
   "codemirror_mode": {
    "name": "ipython",
    "version": 3
   },
   "file_extension": ".py",
   "mimetype": "text/x-python",
   "name": "python",
   "nbconvert_exporter": "python",
   "pygments_lexer": "ipython3",
   "version": "3.8.10"
  }
 },
 "nbformat": 4,
 "nbformat_minor": 4
}
